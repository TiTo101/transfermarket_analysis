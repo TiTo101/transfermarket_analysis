{
 "cells": [
  {
   "cell_type": "markdown",
   "metadata": {},
   "source": [
    "# Predicting football transfer fees based on publicly available data"
   ]
  },
  {
   "cell_type": "markdown",
   "metadata": {},
   "source": [
    "## Importing modules"
   ]
  },
  {
   "cell_type": "code",
   "execution_count": 1,
   "metadata": {},
   "outputs": [],
   "source": [
    "import pandas as pd, numpy as np, seaborn as sns, matplotlib, matplotlib.pyplot as plt, sklearn\n",
    "\n",
    "from sklearn.dummy import DummyRegressor\n",
    "from sklearn.model_selection import GridSearchCV \n",
    "from sklearn.metrics import mean_squared_log_error, mean_squared_error\n",
    "from sklearn.preprocessing import OneHotEncoder, StandardScaler, PolynomialFeatures\n",
    "from sklearn.compose import make_column_transformer\n",
    "from sklearn.pipeline import make_pipeline\n",
    "from sklearn.linear_model import PoissonRegressor, Ridge\n",
    "from sklearn.ensemble import RandomForestRegressor, GradientBoostingRegressor\n",
    "\n",
    "matplotlib.rcParams['figure.figsize'] = (15, 10)"
   ]
  },
  {
   "cell_type": "markdown",
   "metadata": {},
   "source": [
    "## Reading and preparing data"
   ]
  },
  {
   "cell_type": "code",
   "execution_count": 2,
   "metadata": {
    "scrolled": false
   },
   "outputs": [
    {
     "name": "stderr",
     "output_type": "stream",
     "text": [
      "/opt/anaconda3/lib/python3.8/site-packages/IPython/core/interactiveshell.py:3071: DtypeWarning: Columns (339,340,341) have mixed types.Specify dtype option on import or set low_memory=False.\n",
      "  has_raised = await self.run_ast_nodes(code_ast.body, cell_name,\n"
     ]
    },
    {
     "data": {
      "text/html": [
       "<div>\n",
       "<style scoped>\n",
       "    .dataframe tbody tr th:only-of-type {\n",
       "        vertical-align: middle;\n",
       "    }\n",
       "\n",
       "    .dataframe tbody tr th {\n",
       "        vertical-align: top;\n",
       "    }\n",
       "\n",
       "    .dataframe thead th {\n",
       "        text-align: right;\n",
       "    }\n",
       "</style>\n",
       "<table border=\"1\" class=\"dataframe\">\n",
       "  <thead>\n",
       "    <tr style=\"text-align: right;\">\n",
       "      <th></th>\n",
       "      <th>season</th>\n",
       "      <th>period</th>\n",
       "      <th>player_ids</th>\n",
       "      <th>giving_team_ids</th>\n",
       "      <th>receiving_team_ids</th>\n",
       "      <th>transfer_values</th>\n",
       "      <th>matches</th>\n",
       "      <th>goals</th>\n",
       "      <th>assists</th>\n",
       "      <th>yellow_cards</th>\n",
       "      <th>...</th>\n",
       "      <th>avg_defenders_age_receiving_team</th>\n",
       "      <th>mitfielder_receiving_team</th>\n",
       "      <th>avg_mitfielders_age_receiving_team</th>\n",
       "      <th>striker_receiving_team</th>\n",
       "      <th>avg_strikers_age_receiving_team</th>\n",
       "      <th>final_table_position_receiving_team</th>\n",
       "      <th>no_of_matches_receiving_team</th>\n",
       "      <th>goal_diff_receiving_team</th>\n",
       "      <th>points_receiving_team</th>\n",
       "      <th>Vertrag bis</th>\n",
       "    </tr>\n",
       "  </thead>\n",
       "  <tbody>\n",
       "    <tr>\n",
       "      <th>0</th>\n",
       "      <td>2000</td>\n",
       "      <td>s</td>\n",
       "      <td>127</td>\n",
       "      <td>506</td>\n",
       "      <td>16</td>\n",
       "      <td>7,50 Mio. €</td>\n",
       "      <td>19.0</td>\n",
       "      <td>1.0</td>\n",
       "      <td>0.0</td>\n",
       "      <td>3.0</td>\n",
       "      <td>...</td>\n",
       "      <td>27,11</td>\n",
       "      <td>10</td>\n",
       "      <td>25,00</td>\n",
       "      <td>8</td>\n",
       "      <td>26,00</td>\n",
       "      <td>11.0</td>\n",
       "      <td>34.0</td>\n",
       "      <td>3.0</td>\n",
       "      <td>40.0</td>\n",
       "      <td>-</td>\n",
       "    </tr>\n",
       "    <tr>\n",
       "      <th>1</th>\n",
       "      <td>2000</td>\n",
       "      <td>s</td>\n",
       "      <td>113</td>\n",
       "      <td>430</td>\n",
       "      <td>16</td>\n",
       "      <td>4,10 Mio. €</td>\n",
       "      <td>41.0</td>\n",
       "      <td>2.0</td>\n",
       "      <td>3.0</td>\n",
       "      <td>6.0</td>\n",
       "      <td>...</td>\n",
       "      <td>27,11</td>\n",
       "      <td>10</td>\n",
       "      <td>25,00</td>\n",
       "      <td>8</td>\n",
       "      <td>26,00</td>\n",
       "      <td>11.0</td>\n",
       "      <td>34.0</td>\n",
       "      <td>3.0</td>\n",
       "      <td>40.0</td>\n",
       "      <td>-</td>\n",
       "    </tr>\n",
       "    <tr>\n",
       "      <th>3</th>\n",
       "      <td>2000</td>\n",
       "      <td>s</td>\n",
       "      <td>123</td>\n",
       "      <td>91</td>\n",
       "      <td>16</td>\n",
       "      <td>200 Tsd. €</td>\n",
       "      <td>32.0</td>\n",
       "      <td>4.0</td>\n",
       "      <td>0.0</td>\n",
       "      <td>4.0</td>\n",
       "      <td>...</td>\n",
       "      <td>27,11</td>\n",
       "      <td>10</td>\n",
       "      <td>25,00</td>\n",
       "      <td>8</td>\n",
       "      <td>26,00</td>\n",
       "      <td>11.0</td>\n",
       "      <td>34.0</td>\n",
       "      <td>3.0</td>\n",
       "      <td>40.0</td>\n",
       "      <td>-</td>\n",
       "    </tr>\n",
       "    <tr>\n",
       "      <th>4</th>\n",
       "      <td>2000</td>\n",
       "      <td>s</td>\n",
       "      <td>97</td>\n",
       "      <td>2035</td>\n",
       "      <td>15</td>\n",
       "      <td>4,50 Mio. €</td>\n",
       "      <td>0.0</td>\n",
       "      <td>0.0</td>\n",
       "      <td>0.0</td>\n",
       "      <td>0.0</td>\n",
       "      <td>...</td>\n",
       "      <td>24,50</td>\n",
       "      <td>13</td>\n",
       "      <td>23,92</td>\n",
       "      <td>7</td>\n",
       "      <td>24,43</td>\n",
       "      <td>2.0</td>\n",
       "      <td>34.0</td>\n",
       "      <td>38.0</td>\n",
       "      <td>73.0</td>\n",
       "      <td>NaN</td>\n",
       "    </tr>\n",
       "    <tr>\n",
       "      <th>5</th>\n",
       "      <td>2000</td>\n",
       "      <td>s</td>\n",
       "      <td>83</td>\n",
       "      <td>3</td>\n",
       "      <td>15</td>\n",
       "      <td>2,10 Mio. €</td>\n",
       "      <td>35.0</td>\n",
       "      <td>3.0</td>\n",
       "      <td>1.0</td>\n",
       "      <td>5.0</td>\n",
       "      <td>...</td>\n",
       "      <td>24,50</td>\n",
       "      <td>13</td>\n",
       "      <td>23,92</td>\n",
       "      <td>7</td>\n",
       "      <td>24,43</td>\n",
       "      <td>2.0</td>\n",
       "      <td>34.0</td>\n",
       "      <td>38.0</td>\n",
       "      <td>73.0</td>\n",
       "      <td>-</td>\n",
       "    </tr>\n",
       "  </tbody>\n",
       "</table>\n",
       "<p>5 rows × 347 columns</p>\n",
       "</div>"
      ],
      "text/plain": [
       "   season period  player_ids  giving_team_ids  receiving_team_ids  \\\n",
       "0    2000      s         127              506                  16   \n",
       "1    2000      s         113              430                  16   \n",
       "3    2000      s         123               91                  16   \n",
       "4    2000      s          97             2035                  15   \n",
       "5    2000      s          83                3                  15   \n",
       "\n",
       "  transfer_values  matches  goals  assists  yellow_cards  ...  \\\n",
       "0     7,50 Mio. €     19.0    1.0      0.0           3.0  ...   \n",
       "1     4,10 Mio. €     41.0    2.0      3.0           6.0  ...   \n",
       "3      200 Tsd. €     32.0    4.0      0.0           4.0  ...   \n",
       "4     4,50 Mio. €      0.0    0.0      0.0           0.0  ...   \n",
       "5     2,10 Mio. €     35.0    3.0      1.0           5.0  ...   \n",
       "\n",
       "   avg_defenders_age_receiving_team  mitfielder_receiving_team  \\\n",
       "0                             27,11                         10   \n",
       "1                             27,11                         10   \n",
       "3                             27,11                         10   \n",
       "4                             24,50                         13   \n",
       "5                             24,50                         13   \n",
       "\n",
       "   avg_mitfielders_age_receiving_team  striker_receiving_team  \\\n",
       "0                               25,00                       8   \n",
       "1                               25,00                       8   \n",
       "3                               25,00                       8   \n",
       "4                               23,92                       7   \n",
       "5                               23,92                       7   \n",
       "\n",
       "   avg_strikers_age_receiving_team  final_table_position_receiving_team  \\\n",
       "0                            26,00                                 11.0   \n",
       "1                            26,00                                 11.0   \n",
       "3                            26,00                                 11.0   \n",
       "4                            24,43                                  2.0   \n",
       "5                            24,43                                  2.0   \n",
       "\n",
       "   no_of_matches_receiving_team  goal_diff_receiving_team  \\\n",
       "0                          34.0                       3.0   \n",
       "1                          34.0                       3.0   \n",
       "3                          34.0                       3.0   \n",
       "4                          34.0                      38.0   \n",
       "5                          34.0                      38.0   \n",
       "\n",
       "   points_receiving_team  Vertrag bis  \n",
       "0                   40.0            -  \n",
       "1                   40.0            -  \n",
       "3                   40.0            -  \n",
       "4                   73.0          NaN  \n",
       "5                   73.0            -  \n",
       "\n",
       "[5 rows x 347 columns]"
      ]
     },
     "execution_count": 2,
     "metadata": {},
     "output_type": "execute_result"
    }
   ],
   "source": [
    "df = pd.read_csv('./data/full_dataset.csv', parse_dates=True, index_col=0, skipinitialspace=True, )\n",
    "df = df.drop(['player_id_x', 'player_id_y','team_id_giving_team', 'team_id_receiving_team', 'goals_conceded', 'clean_sheets', 'places_of_birth', 'country_of_birth', 'national_debuts_y'], axis=1)\n",
    "df = df[df['transfer_values'] != '?']\n",
    "\n",
    "# As contract length for older seasons are unreliable I drop all \"free\" transfers, as they otherwise bias the dataset\n",
    "df = df[df['transfer_values'] != '-']\n",
    "df = df[df['transfer_values'] != 'ablösefrei']\n",
    "\n",
    "# Winter transfers for 2020 are not completed, yet\n",
    "mask = (df['season'] == 2020) & (df['period'] == 'w')\n",
    "df = df[~mask]\n",
    "df['positions'] = df['positions'].str.strip()\n",
    "df = df[~(df['positions'] ==  'Torwart')]\n",
    "df.head()"
   ]
  },
  {
   "cell_type": "code",
   "execution_count": 3,
   "metadata": {},
   "outputs": [],
   "source": [
    "# Setting correct data types\n",
    "df['transfer_values'] = df['transfer_values'].str.replace(' Mio. €', '0000').str.replace(' Tsd. €', '000').str.replace(',', '')\n",
    "df['dates_of_birth'] = df['dates_of_birth'].str[:10]\n",
    "df['sizes'] = df['sizes'].str.replace('m', '').str.replace(',', '').str.strip()\n",
    "avg_ages = ['avg_keepers_age_giving_team', 'avg_defenders_age_giving_team', \n",
    "            'avg_mitfielders_age_giving_team', 'avg_strikers_age_giving_team',\n",
    "           'avg_keepers_age_receiving_team', 'avg_defenders_age_receiving_team', \n",
    "            'avg_mitfielders_age_receiving_team', 'avg_strikers_age_receiving_team'\n",
    "           ]\n",
    "for col in avg_ages:\n",
    "    df[col] = df[col].str.replace(',', '.')\n",
    "df['dates_of_birth'] = pd.to_datetime(df['dates_of_birth'], errors='coerce')\n",
    "cols = ['transfer_values', 'matches', 'goals', 'assists', 'yellow_cards', \n",
    "        'yellow_red_cards', 'red_cards', 'minutes_played', 'sizes',\n",
    "       'avg_keepers_age_giving_team', 'avg_defenders_age_giving_team', \n",
    "        'avg_mitfielders_age_giving_team', 'avg_strikers_age_giving_team',\n",
    "       'avg_keepers_age_receiving_team', 'avg_defenders_age_receiving_team', \n",
    "        'avg_mitfielders_age_receiving_team', 'avg_strikers_age_receiving_team'\n",
    "       ]\n",
    "df[cols] = df[cols].replace('-', 0)\n",
    "df[cols] = df[cols].apply(pd.to_numeric, errors='coerce', axis=1)\n",
    "df.rename(columns={'Vertrag bis':'contract_until', 'national_debuts_x' : 'national_debuts'}, inplace=True)"
   ]
  },
  {
   "cell_type": "code",
   "execution_count": 4,
   "metadata": {},
   "outputs": [
    {
     "name": "stderr",
     "output_type": "stream",
     "text": [
      "/opt/anaconda3/lib/python3.8/site-packages/pandas/core/indexing.py:671: SettingWithCopyWarning: \n",
      "A value is trying to be set on a copy of a slice from a DataFrame\n",
      "\n",
      "See the caveats in the documentation: https://pandas.pydata.org/pandas-docs/stable/user_guide/indexing.html#returning-a-view-versus-a-copy\n",
      "  self._setitem_with_indexer(indexer, value)\n"
     ]
    }
   ],
   "source": [
    "# filling nans\n",
    "df['consultants'] = np.where(df.consultants.isna(), 0, 1)\n",
    "for sm in ['twitter', 'facebook', 'instagram', 'homepage']:\n",
    "    df[sm] = df[sm].fillna('')\n",
    "df['social_media'] = df['twitter'] + df['facebook'] + df['instagram'] + df['homepage']\n",
    "df['social_media'] = np.where(df.social_media == '' ,0,1)\n",
    "for col in avg_ages:\n",
    "    df[col] = df[col].fillna(df[col].median())\n",
    "giving_team_stats = ['final_table_position_giving_team', 'no_of_matches_giving_team', 'goal_diff_giving_team', 'points_giving_team']\n",
    "for col in giving_team_stats:\n",
    "    df[col].replace('-', np.nan, inplace=True)\n",
    "    df[col] = df[col].astype('float')\n",
    "    df[col].fillna(df.groupby(['giving_team_ids'])[col].transform('median'),inplace=True)\n",
    "    df[col] = df[col].fillna(df[col].median())\n",
    "receiving_team_stats = ['final_table_position_receiving_team', 'no_of_matches_receiving_team', 'goal_diff_receiving_team', 'points_receiving_team']\n",
    "for col in receiving_team_stats:\n",
    "    df[col].replace('-', np.nan, inplace=True)\n",
    "    df[col] = df[col].astype('float')\n",
    "    df[col].fillna(df.groupby(['receiving_team_ids'])[col].transform('median'),inplace=True)\n",
    "    df[col] = df[col].fillna(df[col].median())\n",
    "\n",
    "df['sizes'] = df['sizes'].fillna(df['sizes'].median())\n",
    "df['secondary_posistions'] = np.where(df['secondary_posistions'].isna(), 0, 1)\n",
    "df['outfitters'] = np.where(df['outfitters'].isna(), 0, 1)\n",
    "df['strong_feet'] = df['strong_feet'].fillna('rechts')\n",
    "df['month_of_period'] = np.where(df.period == 's' , 7, 12)\n",
    "df['age_at_transfer'] = (pd.to_datetime(dict(year=df.season, month=df.month_of_period, day=1)) - df['dates_of_birth']).dt.days\n",
    "df['age_at_transfer'] = df['age_at_transfer'].fillna(df['age_at_transfer'].median())\n",
    "df['time_line'] = df['season'].astype('int')- 1999\n",
    "\n",
    "for i in range(len(df)):\n",
    "    if pd.isna(df['contract_until'].iloc[i]):\n",
    "        df['contract_until'].iloc[i] = f'30.06.{df[\"season\"].iloc[i] +1}'\n",
    "    if df['contract_until'].iloc[i] == '-':\n",
    "        df['contract_until'].iloc[i] = f'30.06.{df[\"season\"].iloc[i] +1}'       \n",
    "\n",
    "\n",
    "df['contract_until'] = pd.to_datetime(df['contract_until'], format='%d.%m.%Y', errors='coerce')\n",
    "df['contract_length'] = df['contract_until'].dt.year - df['season']\n",
    "\n",
    "\n",
    "df['national_debuts'] = pd.to_datetime(df['national_debuts'], format='%d.%m.%Y', errors='coerce')\n",
    "df['national_debuts'] = df['national_debuts'].dt.year - df['season']\n",
    "df['national_debuts'] = np.where(df['national_debuts'] < 0, 1, 0)\n",
    "\n",
    "df['positions'] = df['positions'].apply(lambda x: 'defense' if 'Abwehr' in str(x) \n",
    "                                                      else 'midfield' if 'Mittelfeld' in str(x) \n",
    "                                                      else 'striker' if 'Sturm' in str(x)\n",
    "                                                      else x)"
   ]
  },
  {
   "cell_type": "code",
   "execution_count": 5,
   "metadata": {
    "scrolled": true
   },
   "outputs": [],
   "source": [
    "df.drop(['twitter', 'facebook', 'instagram', 'homepage', 'month_of_period', 'dates_of_birth', 'contract_until'], inplace=True, axis=1)"
   ]
  },
  {
   "cell_type": "code",
   "execution_count": 6,
   "metadata": {},
   "outputs": [],
   "source": [
    "df.drop_duplicates(inplace=True)"
   ]
  },
  {
   "cell_type": "markdown",
   "metadata": {},
   "source": [
    "## Defining train and test data\n",
    "\n",
    "I keep the Corona season seperated, as I expect it to be an outlier. This way enables later comparison"
   ]
  },
  {
   "cell_type": "code",
   "execution_count": 7,
   "metadata": {},
   "outputs": [],
   "source": [
    "# defining X and y\n",
    "train = df.loc[(df['season'] <= 2018)]\n",
    "test = df[df['season'] == 2019]\n",
    "train_corona = df.loc[(df['season'] <= 2019)]\n",
    "test_corona = df[df['season'] == 2020]\n",
    "\n",
    "# main data\n",
    "y_train = np.log(train['transfer_values'])\n",
    "X_train = train.loc[:, train.columns != 'transfer_values']\n",
    "y_test = test['transfer_values']\n",
    "X_test = test.loc[:, test.columns != 'transfer_values']\n",
    "\n",
    "# corona comparison\n",
    "y_train_corona = np.log(train_corona['transfer_values'])\n",
    "X_train_corona = train_corona.loc[:, train_corona.columns != 'transfer_values']\n",
    "y_test_corona = test_corona['transfer_values']\n",
    "X_test_corona = test_corona.loc[:, test_corona.columns != 'transfer_values']"
   ]
  },
  {
   "cell_type": "markdown",
   "metadata": {},
   "source": [
    "## Grafical analyses"
   ]
  },
  {
   "cell_type": "markdown",
   "metadata": {},
   "source": [
    "### Transfer expenditure of the Bundesliga over time"
   ]
  },
  {
   "cell_type": "code",
   "execution_count": 115,
   "metadata": {},
   "outputs": [
    {
     "data": {
      "image/png": "[encoded data removed]",
      "text/plain": [
       "<Figure size 1080x720 with 1 Axes>"
      ]
     },
     "metadata": {
      "needs_background": "light"
     },
     "output_type": "display_data"
    }
   ],
   "source": [
    "fig = plt.figure() \n",
    "ax = fig.add_subplot(111)\n",
    "\n",
    "spending_over_time = pd.DataFrame(df[df['period']=='s'].groupby('season')['transfer_values'].sum())\n",
    "pal = sns.color_palette(\"GnBu\", len(spending_over_time))\n",
    "\n",
    "def colors_from_values(values, palette_name):\n",
    "    normalized = (values - min(values)) / (max(values) - min(values))\n",
    "    indices = np.round(normalized * (len(values) - 1)).astype(np.int32)\n",
    "    palette = sns.color_palette(palette_name, len(values))\n",
    "    return np.array(palette).take(indices, axis=0)\n",
    "\n",
    "ax = sns.barplot(x=spending_over_time.index, \n",
    "            y= spending_over_time['transfer_values'], \n",
    "            palette=colors_from_values(spending_over_time['transfer_values'], \"GnBu\"),\n",
    "           ax=ax)\n",
    "\n",
    "title_font = {'family': 'league-gothic',\n",
    "        'color':  'black',\n",
    "        'weight': 'normal',\n",
    "        'size': 20,\n",
    "        }\n",
    "ax_font = {'family': 'league-gothic',\n",
    "        'color':  'black',\n",
    "        'weight': 'normal',\n",
    "        'size': 16,\n",
    "        }\n",
    "ticker_font = {'family': 'league-gothic',\n",
    "        'color':  'black',\n",
    "        'weight': 'normal',\n",
    "        'size': 14,\n",
    "        }\n",
    "\n",
    "ax.set_title('Transfer expenditure of the Bundesliga over time', fontdict = title_font) \n",
    "ax.set_xlabel('Seasons', fontdict = ax_font)\n",
    "ax.set_ylabel('Transfer expenditure [Mio €]', fontdict = ax_font, size = 16)\n",
    "ax.set_xticklabels(labels = spending_over_time.index, fontdict = ticker_font)\n",
    "ax.set_yticklabels(labels = ax.get_yticks()/1000000, fontdict = ticker_font)\n",
    "\n",
    "ax.arrow(20, 690000000, 0, -350000000, head_width=0.5, head_length=20000000, fc='red', ec='red')\n",
    "ax.annotate('Corona', (19.3, 710000000), fontfamily = 'league-gothic', color = 'black', fontsize=16)\n",
    "\n",
    "ax.spines['top'].set_visible(False)\n",
    "ax.spines['right'].set_visible(False)\n",
    "ax.spines['bottom'].set_visible(False)\n",
    "ax.spines['left'].set_visible(False)\n",
    "\n",
    "fig.savefig('./presentation/assets/expenditure_over_time.png', transparent=True)\n"
   ]
  },
  {
   "cell_type": "markdown",
   "metadata": {},
   "source": [
    "### Number of transfers in to the Bundesliga per season "
   ]
  },
  {
   "cell_type": "code",
   "execution_count": 9,
   "metadata": {
    "scrolled": false
   },
   "outputs": [
    {
     "data": {
      "text/plain": [
       "<matplotlib.axes._subplots.AxesSubplot at 0x7fb2ce193250>"
      ]
     },
     "execution_count": 9,
     "metadata": {},
     "output_type": "execute_result"
    },
    {
     "data": {
      "image/png": "[encoded data removed]",
      "text/plain": [
       "<Figure size 1080x720 with 1 Axes>"
      ]
     },
     "metadata": {
      "needs_background": "light"
     },
     "output_type": "display_data"
    }
   ],
   "source": [
    "transfer_count = pd.DataFrame(df[df['period']=='s'].groupby('season')['transfer_values'].count())#.plot(x='season', y='transfer_values', kind='bar')\n",
    "\n",
    "sns.barplot(x = transfer_count.index, y = transfer_count['transfer_values'], palette=colors_from_values(transfer_count['transfer_values'], \"GnBu\"))"
   ]
  },
  {
   "cell_type": "markdown",
   "metadata": {},
   "source": [
    "While the number of (fee) transfers were slowly increasing over time, corona lead to a sudden drop in the number of fee transfers. The clubs seem to be reluctant to act big on the transfermakrt "
   ]
  },
  {
   "cell_type": "markdown",
   "metadata": {},
   "source": [
    "### Comparison of average summer vs. winter transfer fee per player"
   ]
  },
  {
   "cell_type": "code",
   "execution_count": 10,
   "metadata": {},
   "outputs": [
    {
     "data": {
      "text/plain": [
       "<matplotlib.axes._subplots.AxesSubplot at 0x7fb2ce1f2640>"
      ]
     },
     "execution_count": 10,
     "metadata": {},
     "output_type": "execute_result"
    },
    {
     "data": {
      "image/png": "[encoded data removed]",
      "text/plain": [
       "<Figure size 1080x720 with 1 Axes>"
      ]
     },
     "metadata": {
      "needs_background": "light"
     },
     "output_type": "display_data"
    }
   ],
   "source": [
    "period_avg = pd.DataFrame(df.groupby('period')['transfer_values'].mean())\n",
    "sns.barplot(x = period_avg.index, y = period_avg['transfer_values'], palette=colors_from_values(period_avg['transfer_values'], \"GnBu\"))\n"
   ]
  },
  {
   "cell_type": "markdown",
   "metadata": {},
   "source": [
    "Significant transfers tend to be made in the summer transfer period"
   ]
  },
  {
   "cell_type": "markdown",
   "metadata": {},
   "source": [
    "## Machine learning\n",
    "The Dummy-Regression gives a first estimate to compare other models to. It does not lead to a meaningful prediction, but only takes the mean value of all test labels.\n",
    "After thtat I try a Random Forest and a Ridge regression model and the combined predicitions of both models. In a previous notebook I also tried out a Poisson regression, which did not yield satisfactionary results, so I dropped it for an improved overview"
   ]
  },
  {
   "cell_type": "markdown",
   "metadata": {},
   "source": [
    "### DummyRegressor"
   ]
  },
  {
   "cell_type": "code",
   "execution_count": 11,
   "metadata": {},
   "outputs": [],
   "source": [
    "DR = DummyRegressor(strategy='mean')"
   ]
  },
  {
   "cell_type": "code",
   "execution_count": 12,
   "metadata": {},
   "outputs": [
    {
     "data": {
      "text/plain": [
       "DummyRegressor()"
      ]
     },
     "execution_count": 12,
     "metadata": {},
     "output_type": "execute_result"
    }
   ],
   "source": [
    "DR.fit(X_train, y_train)"
   ]
  },
  {
   "cell_type": "code",
   "execution_count": 13,
   "metadata": {},
   "outputs": [],
   "source": [
    "y_pred_DR = np.exp(DR.predict(X_test))"
   ]
  },
  {
   "cell_type": "code",
   "execution_count": 14,
   "metadata": {},
   "outputs": [
    {
     "data": {
      "text/plain": [
       "3.1316873316014124"
      ]
     },
     "execution_count": 14,
     "metadata": {},
     "output_type": "execute_result"
    }
   ],
   "source": [
    "mean_squared_log_error(y_pred_DR, y_test)"
   ]
  },
  {
   "cell_type": "markdown",
   "metadata": {},
   "source": [
    "The MSLE of 3.13 seves as a baseline. Any model that does not yiled significantly better predictions should be dropped"
   ]
  },
  {
   "cell_type": "markdown",
   "metadata": {},
   "source": [
    "### Random Forest"
   ]
  },
  {
   "cell_type": "code",
   "execution_count": 15,
   "metadata": {},
   "outputs": [],
   "source": [
    "passthrough_cols = [col for col in df if col.startswith('competition_id_')]\n",
    "passthrough_cols.append('secondary_posistions')\n",
    "passthrough_cols.append('consultants')\n",
    "passthrough_cols.append('outfitters')\n",
    "passthrough_cols.append('social_media')\n",
    "\n",
    "giving_team_cols = [col for col in df if col.endswith('_giving_team')]\n",
    "receiving_team_cols = [col for col in df if col.endswith('_receiving_team')]\n",
    "stand_scale_cols = []\n",
    "stand_scale_cols.extend(giving_team_cols)\n",
    "stand_scale_cols.extend(receiving_team_cols)\n",
    "stand_scale_cols.append('contract_length')"
   ]
  },
  {
   "cell_type": "code",
   "execution_count": 16,
   "metadata": {},
   "outputs": [],
   "source": [
    "## make_pipelien & make_column_transformer\n",
    "age_pipe = make_pipeline(StandardScaler(),\n",
    "                         PolynomialFeatures()\n",
    "                         )\n",
    "\n",
    "transformer = make_column_transformer(\n",
    "    (OneHotEncoder(sparse=False, drop = 'first'), ['period', 'positions', 'strong_feet']),\n",
    "    (OneHotEncoder(sparse=False, handle_unknown= 'ignore'), ['nationalities', \n",
    "                                                             'player_ids', \n",
    "                                                            'giving_team_ids',\n",
    "                                                            'receiving_team_ids']),\n",
    "    (age_pipe, ['age_at_transfer']),\n",
    "    (PolynomialFeatures(), ['time_line']),\n",
    "     (StandardScaler(), stand_scale_cols),\n",
    "     ('passthrough', passthrough_cols)\n",
    ")"
   ]
  },
  {
   "cell_type": "code",
   "execution_count": 17,
   "metadata": {},
   "outputs": [],
   "source": [
    "# make_pipeline\n",
    "RF_pipeline = make_pipeline(\n",
    "                            transformer,\n",
    "                            PolynomialFeatures(degree=1, interaction_only=True),\n",
    "                            RandomForestRegressor(n_estimators=500, verbose = 1)\n",
    "                            )"
   ]
  },
  {
   "cell_type": "code",
   "execution_count": 18,
   "metadata": {},
   "outputs": [],
   "source": [
    "# grid\n",
    "grid_RF = {\n",
    "    'randomforestregressor__max_depth':[15, 25, 40],\n",
    "}\n"
   ]
  },
  {
   "cell_type": "code",
   "execution_count": 19,
   "metadata": {},
   "outputs": [],
   "source": [
    "# grid_search\n",
    "scores_RF_reg = GridSearchCV(\n",
    "    estimator=RF_pipeline,\n",
    "    param_grid=grid_RF,\n",
    "    scoring= 'neg_mean_squared_error',\n",
    "    cv=3, \n",
    "    n_jobs= 4,\n",
    "    verbose=True,\n",
    "    return_train_score=True\n",
    ")"
   ]
  },
  {
   "cell_type": "code",
   "execution_count": 20,
   "metadata": {
    "scrolled": false
   },
   "outputs": [
    {
     "name": "stdout",
     "output_type": "stream",
     "text": [
      "CPU times: user 34.3 s, sys: 153 ms, total: 34.5 s\n",
      "Wall time: 1min 35s\n"
     ]
    }
   ],
   "source": [
    "%%time\n",
    "%%capture\n",
    "scores_RF_reg.fit(X_train, y_train)"
   ]
  },
  {
   "cell_type": "code",
   "execution_count": 21,
   "metadata": {},
   "outputs": [
    {
     "data": {
      "text/html": [
       "<div>\n",
       "<style scoped>\n",
       "    .dataframe tbody tr th:only-of-type {\n",
       "        vertical-align: middle;\n",
       "    }\n",
       "\n",
       "    .dataframe tbody tr th {\n",
       "        vertical-align: top;\n",
       "    }\n",
       "\n",
       "    .dataframe thead th {\n",
       "        text-align: right;\n",
       "    }\n",
       "</style>\n",
       "<table border=\"1\" class=\"dataframe\">\n",
       "  <thead>\n",
       "    <tr style=\"text-align: right;\">\n",
       "      <th></th>\n",
       "      <th>rank_test_score</th>\n",
       "      <th>mean_test_score</th>\n",
       "      <th>mean_train_score</th>\n",
       "      <th>param_randomforestregressor__max_depth</th>\n",
       "    </tr>\n",
       "  </thead>\n",
       "  <tbody>\n",
       "    <tr>\n",
       "      <th>2</th>\n",
       "      <td>1</td>\n",
       "      <td>-1.315139</td>\n",
       "      <td>-0.133179</td>\n",
       "      <td>40</td>\n",
       "    </tr>\n",
       "    <tr>\n",
       "      <th>1</th>\n",
       "      <td>2</td>\n",
       "      <td>-1.321571</td>\n",
       "      <td>-0.135170</td>\n",
       "      <td>25</td>\n",
       "    </tr>\n",
       "    <tr>\n",
       "      <th>0</th>\n",
       "      <td>3</td>\n",
       "      <td>-1.324489</td>\n",
       "      <td>-0.180649</td>\n",
       "      <td>15</td>\n",
       "    </tr>\n",
       "  </tbody>\n",
       "</table>\n",
       "</div>"
      ],
      "text/plain": [
       "   rank_test_score  mean_test_score  mean_train_score  \\\n",
       "2                1        -1.315139         -0.133179   \n",
       "1                2        -1.321571         -0.135170   \n",
       "0                3        -1.324489         -0.180649   \n",
       "\n",
       "  param_randomforestregressor__max_depth  \n",
       "2                                     40  \n",
       "1                                     25  \n",
       "0                                     15  "
      ]
     },
     "execution_count": 21,
     "metadata": {},
     "output_type": "execute_result"
    }
   ],
   "source": [
    "# analyze the output\n",
    "cv_results_RF_reg = pd.DataFrame(scores_RF_reg.cv_results_)\n",
    "cv_results_RF_reg[[\n",
    "    'rank_test_score',\n",
    "    'mean_test_score', \n",
    "    'mean_train_score',\n",
    "    'param_randomforestregressor__max_depth'\n",
    "    ]].sort_values('rank_test_score')\n"
   ]
  },
  {
   "cell_type": "code",
   "execution_count": 22,
   "metadata": {},
   "outputs": [],
   "source": [
    "%%capture\n",
    "# fit using best estimators\n",
    "scores_RF_reg.best_estimator_.fit(X_train, y_train)"
   ]
  },
  {
   "cell_type": "code",
   "execution_count": 64,
   "metadata": {},
   "outputs": [
    {
     "name": "stderr",
     "output_type": "stream",
     "text": [
      "[Parallel(n_jobs=1)]: Using backend SequentialBackend with 1 concurrent workers.\n",
      "[Parallel(n_jobs=1)]: Done 500 out of 500 | elapsed:    0.0s finished\n"
     ]
    }
   ],
   "source": [
    "y_pred = np.exp(scores_RF_reg.predict(X_test))"
   ]
  },
  {
   "cell_type": "markdown",
   "metadata": {},
   "source": [
    "## Ridge Regression"
   ]
  },
  {
   "cell_type": "code",
   "execution_count": 42,
   "metadata": {},
   "outputs": [],
   "source": [
    "RR_pipeline = make_pipeline(\n",
    "                            transformer,\n",
    "                            PolynomialFeatures(),\n",
    "                            Ridge()\n",
    "                            )"
   ]
  },
  {
   "cell_type": "code",
   "execution_count": 46,
   "metadata": {},
   "outputs": [],
   "source": [
    "# grid\n",
    "grid_RR = {\n",
    "    'ridge__alpha':[0.1, 1],\n",
    "    'polynomialfeatures__degree': [1,2]\n",
    "}"
   ]
  },
  {
   "cell_type": "code",
   "execution_count": 47,
   "metadata": {},
   "outputs": [],
   "source": [
    "# grid_search\n",
    "scores_RR_reg = GridSearchCV(\n",
    "    estimator=RR_pipeline,\n",
    "    param_grid=grid_RR,\n",
    "    scoring= 'neg_mean_squared_error',\n",
    "    cv=3, \n",
    "    n_jobs= 4,\n",
    "    verbose=True,\n",
    "    return_train_score=True\n",
    ")"
   ]
  },
  {
   "cell_type": "code",
   "execution_count": 48,
   "metadata": {},
   "outputs": [
    {
     "name": "stdout",
     "output_type": "stream",
     "text": [
      "CPU times: user 1.84 s, sys: 294 ms, total: 2.14 s\n",
      "Wall time: 8min 43s\n"
     ]
    }
   ],
   "source": [
    "%%time\n",
    "%%capture\n",
    "scores_RR_reg.fit(X_train, y_train)"
   ]
  },
  {
   "cell_type": "code",
   "execution_count": 51,
   "metadata": {},
   "outputs": [
    {
     "data": {
      "text/html": [
       "<div>\n",
       "<style scoped>\n",
       "    .dataframe tbody tr th:only-of-type {\n",
       "        vertical-align: middle;\n",
       "    }\n",
       "\n",
       "    .dataframe tbody tr th {\n",
       "        vertical-align: top;\n",
       "    }\n",
       "\n",
       "    .dataframe thead th {\n",
       "        text-align: right;\n",
       "    }\n",
       "</style>\n",
       "<table border=\"1\" class=\"dataframe\">\n",
       "  <thead>\n",
       "    <tr style=\"text-align: right;\">\n",
       "      <th></th>\n",
       "      <th>rank_test_score</th>\n",
       "      <th>mean_test_score</th>\n",
       "      <th>mean_train_score</th>\n",
       "      <th>param_ridge__alpha</th>\n",
       "      <th>param_polynomialfeatures__degree</th>\n",
       "    </tr>\n",
       "  </thead>\n",
       "  <tbody>\n",
       "    <tr>\n",
       "      <th>1</th>\n",
       "      <td>1</td>\n",
       "      <td>-1.130898</td>\n",
       "      <td>-1.039410e-01</td>\n",
       "      <td>1</td>\n",
       "      <td>1</td>\n",
       "    </tr>\n",
       "    <tr>\n",
       "      <th>0</th>\n",
       "      <td>2</td>\n",
       "      <td>-1.181287</td>\n",
       "      <td>-1.082738e-02</td>\n",
       "      <td>0.1</td>\n",
       "      <td>1</td>\n",
       "    </tr>\n",
       "    <tr>\n",
       "      <th>2</th>\n",
       "      <td>3</td>\n",
       "      <td>-15.405439</td>\n",
       "      <td>-1.922217e-08</td>\n",
       "      <td>0.1</td>\n",
       "      <td>2</td>\n",
       "    </tr>\n",
       "    <tr>\n",
       "      <th>3</th>\n",
       "      <td>4</td>\n",
       "      <td>-15.410202</td>\n",
       "      <td>-1.900802e-06</td>\n",
       "      <td>1</td>\n",
       "      <td>2</td>\n",
       "    </tr>\n",
       "  </tbody>\n",
       "</table>\n",
       "</div>"
      ],
      "text/plain": [
       "   rank_test_score  mean_test_score  mean_train_score param_ridge__alpha  \\\n",
       "1                1        -1.130898     -1.039410e-01                  1   \n",
       "0                2        -1.181287     -1.082738e-02                0.1   \n",
       "2                3       -15.405439     -1.922217e-08                0.1   \n",
       "3                4       -15.410202     -1.900802e-06                  1   \n",
       "\n",
       "  param_polynomialfeatures__degree  \n",
       "1                                1  \n",
       "0                                1  \n",
       "2                                2  \n",
       "3                                2  "
      ]
     },
     "execution_count": 51,
     "metadata": {},
     "output_type": "execute_result"
    }
   ],
   "source": [
    "# analyze the output\n",
    "cv_results_RR_reg = pd.DataFrame(scores_RR_reg.cv_results_)\n",
    "cv_results_RR_reg[[\n",
    "    'rank_test_score',\n",
    "    'mean_test_score', \n",
    "    'mean_train_score',\n",
    "    'param_ridge__alpha',\n",
    "    'param_polynomialfeatures__degree'\n",
    "    ]].sort_values('rank_test_score')\n"
   ]
  },
  {
   "cell_type": "code",
   "execution_count": 52,
   "metadata": {},
   "outputs": [],
   "source": [
    "%%capture\n",
    "# fit using best estimators\n",
    "scores_RR_reg.best_estimator_.fit(X_train, y_train)"
   ]
  },
  {
   "cell_type": "code",
   "execution_count": 62,
   "metadata": {},
   "outputs": [],
   "source": [
    "y_pred_RR = np.exp(scores_RR_reg.predict(X_test))"
   ]
  },
  {
   "cell_type": "markdown",
   "metadata": {},
   "source": [
    "### Comparing the results"
   ]
  },
  {
   "cell_type": "code",
   "execution_count": 76,
   "metadata": {
    "scrolled": false
   },
   "outputs": [
    {
     "data": {
      "image/png": "[encoded data removed]",
      "text/plain": [
       "<Figure size 864x576 with 1 Axes>"
      ]
     },
     "metadata": {
      "needs_background": "light"
     },
     "output_type": "display_data"
    }
   ],
   "source": [
    "fig = plt.figure(figsize=(12, 8)) \n",
    "ax = fig.add_subplot()\n",
    "pal = sns.color_palette(\"GnBu\", 1)\n",
    "sns.scatterplot(y_pred, y_test, c = pal, ax=ax)\n",
    "ax.plot(y_test, y_test, c = 'black')\n",
    "\n",
    "\n",
    "ax.set_title('Prediction accuracy Random Forest model', fontdict = title_font) \n",
    "ax.set_xlabel('Predicted fee [Mio €]', fontdict = ax_font)\n",
    "ax.set_ylabel('Actual fee [Mio €]', fontdict = ax_font)\n",
    "ax.set_xticklabels(labels = ax.get_xticks()/1000000, fontdict = ticker_font)\n",
    "ax.set_yticklabels(labels = ax.get_yticks()/1000000, fontdict = ticker_font)\n",
    "\n",
    "ax.spines['top'].set_visible(False)\n",
    "ax.spines['right'].set_visible(False)\n",
    "ax.spines['bottom'].set_visible(False)\n",
    "ax.spines['left'].set_visible(False)\n",
    "\n",
    "fig.savefig('./presentation/assets/model_accuracy_RF.png', transparent=True)"
   ]
  },
  {
   "cell_type": "code",
   "execution_count": 73,
   "metadata": {},
   "outputs": [
    {
     "data": {
      "image/png": "[encoded data removed]",
      "text/plain": [
       "<Figure size 864x576 with 1 Axes>"
      ]
     },
     "metadata": {
      "needs_background": "light"
     },
     "output_type": "display_data"
    }
   ],
   "source": [
    "fig = plt.figure(figsize=(12, 8)) \n",
    "ax = fig.add_subplot()\n",
    "pal = sns.color_palette(\"GnBu\", 1)\n",
    "sns.scatterplot(y_pred_RR, y_test, c = pal, ax=ax)\n",
    "ax.plot(y_test, y_test, c = 'black')\n",
    "\n",
    "ax.set_title('Prediction accuracy Ridge model', fontdict = title_font) \n",
    "ax.set_xlabel('Predicted fee [Mio €]', fontdict = ax_font)\n",
    "ax.set_ylabel('Actual fee [Mio €]', fontdict = ax_font)\n",
    "ax.set_xticklabels(labels = ax.get_xticks()/1000000, fontdict = ticker_font)\n",
    "ax.set_yticklabels(labels = ax.get_yticks()/1000000, fontdict = ticker_font)\n",
    "\n",
    "ax.spines['top'].set_visible(False)\n",
    "ax.spines['right'].set_visible(False)\n",
    "ax.spines['bottom'].set_visible(False)\n",
    "ax.spines['left'].set_visible(False)\n",
    "\n",
    "fig.savefig('./presentation/assets/model_accuracy_RR.png', transparent=True)"
   ]
  },
  {
   "cell_type": "markdown",
   "metadata": {},
   "source": [
    "**--> While the Random Forest regression model tends to underestimate transfer fees of high value, the Ridge regression model does exactly the opposite. A solution could be to combine both models to average out the systematic errors of both models**"
   ]
  },
  {
   "cell_type": "code",
   "execution_count": 74,
   "metadata": {},
   "outputs": [
    {
     "data": {
      "image/png": "[encoded data removed]",
      "text/plain": [
       "<Figure size 864x576 with 1 Axes>"
      ]
     },
     "metadata": {
      "needs_background": "light"
     },
     "output_type": "display_data"
    }
   ],
   "source": [
    "fig = plt.figure(figsize=(12, 8)) \n",
    "ax = fig.add_subplot()\n",
    "pal = sns.color_palette(\"GnBu\", 1)\n",
    "sns.scatterplot((y_pred + y_pred_RR)/2, y_test, c = pal, ax=ax)\n",
    "ax.plot(y_test, y_test, c = 'black')\n",
    "\n",
    "ax.set_title('Prediction accuracy combined model', fontdict = title_font) \n",
    "ax.set_xlabel('Predicted fee [Mio €]', fontdict = ax_font)\n",
    "ax.set_ylabel('Actual fee [Mio €]', fontdict = ax_font)\n",
    "ax.set_xticklabels(labels = ax.get_xticks()/1000000, fontdict = ticker_font)\n",
    "ax.set_yticklabels(labels = ax.get_yticks()/1000000, fontdict = ticker_font)\n",
    "\n",
    "ax.spines['top'].set_visible(False)\n",
    "ax.spines['right'].set_visible(False)\n",
    "ax.spines['bottom'].set_visible(False)\n",
    "ax.spines['left'].set_visible(False)\n",
    "\n",
    "fig.savefig('./presentation/assets/model_accuracy_RR.png', transparent=True)"
   ]
  },
  {
   "cell_type": "markdown",
   "metadata": {},
   "source": [
    "The error still increases with the fee value but we do not observe a systematic under- or overestimation anymore. Let's see how that represents in the MSLE values:"
   ]
  },
  {
   "cell_type": "code",
   "execution_count": 77,
   "metadata": {},
   "outputs": [
    {
     "data": {
      "text/plain": [
       "1.097078420719095"
      ]
     },
     "execution_count": 77,
     "metadata": {},
     "output_type": "execute_result"
    }
   ],
   "source": [
    "mean_squared_log_error(y_pred, y_test)"
   ]
  },
  {
   "cell_type": "code",
   "execution_count": 60,
   "metadata": {},
   "outputs": [
    {
     "data": {
      "text/plain": [
       "0.7743515902673264"
      ]
     },
     "execution_count": 60,
     "metadata": {},
     "output_type": "execute_result"
    }
   ],
   "source": [
    "mean_squared_log_error(y_pred_RR, y_test)"
   ]
  },
  {
   "cell_type": "code",
   "execution_count": 61,
   "metadata": {},
   "outputs": [
    {
     "data": {
      "text/plain": [
       "0.7581683411287778"
      ]
     },
     "execution_count": 61,
     "metadata": {},
     "output_type": "execute_result"
    }
   ],
   "source": [
    "mean_squared_log_error((y_pred_RR+y_pred)/2, y_test)"
   ]
  },
  {
   "cell_type": "markdown",
   "metadata": {},
   "source": [
    "## Corona predictioins\n",
    "As a bonus I'd like to analyze how Corona impacts the transfer market as a general and the prediction model. This part is still work in progress"
   ]
  },
  {
   "cell_type": "markdown",
   "metadata": {},
   "source": [
    "### Random Forest"
   ]
  },
  {
   "cell_type": "code",
   "execution_count": 78,
   "metadata": {},
   "outputs": [],
   "source": [
    "# grid\n",
    "grid_RF_corona = {\n",
    "    'randomforestregressor__max_depth':[10, 25, 40],\n",
    "}"
   ]
  },
  {
   "cell_type": "code",
   "execution_count": 79,
   "metadata": {},
   "outputs": [],
   "source": [
    "scores_RF_reg_corona = GridSearchCV(\n",
    "    estimator=RF_pipeline,\n",
    "    param_grid=grid_RF_corona,\n",
    "    scoring= 'neg_mean_squared_error',\n",
    "    cv=3, \n",
    "    n_jobs= 4,\n",
    "    verbose=True,\n",
    "    return_train_score=True\n",
    ")"
   ]
  },
  {
   "cell_type": "code",
   "execution_count": 98,
   "metadata": {},
   "outputs": [
    {
     "name": "stdout",
     "output_type": "stream",
     "text": [
      "CPU times: user 43 s, sys: 231 ms, total: 43.3 s\n",
      "Wall time: 1min 51s\n"
     ]
    }
   ],
   "source": [
    "%%time\n",
    "%%capture\n",
    "scores_RF_reg_corona.fit(X_train_corona, y_train_corona)"
   ]
  },
  {
   "cell_type": "code",
   "execution_count": 81,
   "metadata": {},
   "outputs": [
    {
     "data": {
      "text/html": [
       "<div>\n",
       "<style scoped>\n",
       "    .dataframe tbody tr th:only-of-type {\n",
       "        vertical-align: middle;\n",
       "    }\n",
       "\n",
       "    .dataframe tbody tr th {\n",
       "        vertical-align: top;\n",
       "    }\n",
       "\n",
       "    .dataframe thead th {\n",
       "        text-align: right;\n",
       "    }\n",
       "</style>\n",
       "<table border=\"1\" class=\"dataframe\">\n",
       "  <thead>\n",
       "    <tr style=\"text-align: right;\">\n",
       "      <th></th>\n",
       "      <th>rank_test_score</th>\n",
       "      <th>mean_test_score</th>\n",
       "      <th>mean_train_score</th>\n",
       "      <th>param_randomforestregressor__max_depth</th>\n",
       "    </tr>\n",
       "  </thead>\n",
       "  <tbody>\n",
       "    <tr>\n",
       "      <th>2</th>\n",
       "      <td>1</td>\n",
       "      <td>-1.348218</td>\n",
       "      <td>-0.130430</td>\n",
       "      <td>40</td>\n",
       "    </tr>\n",
       "    <tr>\n",
       "      <th>1</th>\n",
       "      <td>2</td>\n",
       "      <td>-1.349301</td>\n",
       "      <td>-0.133278</td>\n",
       "      <td>25</td>\n",
       "    </tr>\n",
       "    <tr>\n",
       "      <th>0</th>\n",
       "      <td>3</td>\n",
       "      <td>-1.362615</td>\n",
       "      <td>-0.345687</td>\n",
       "      <td>10</td>\n",
       "    </tr>\n",
       "  </tbody>\n",
       "</table>\n",
       "</div>"
      ],
      "text/plain": [
       "   rank_test_score  mean_test_score  mean_train_score  \\\n",
       "2                1        -1.348218         -0.130430   \n",
       "1                2        -1.349301         -0.133278   \n",
       "0                3        -1.362615         -0.345687   \n",
       "\n",
       "  param_randomforestregressor__max_depth  \n",
       "2                                     40  \n",
       "1                                     25  \n",
       "0                                     10  "
      ]
     },
     "execution_count": 81,
     "metadata": {},
     "output_type": "execute_result"
    }
   ],
   "source": [
    "# analyze the output\n",
    "cv_results_RF_reg_corona = pd.DataFrame(scores_RF_reg_corona.cv_results_)\n",
    "cv_results_RF_reg_corona[[\n",
    "    'rank_test_score',\n",
    "    'mean_test_score', \n",
    "    'mean_train_score',\n",
    "    'param_randomforestregressor__max_depth',\n",
    "    ]].sort_values('rank_test_score')"
   ]
  },
  {
   "cell_type": "code",
   "execution_count": 82,
   "metadata": {},
   "outputs": [],
   "source": [
    "%%capture\n",
    "# fit using best estimators\n",
    "scores_RF_reg_corona.best_estimator_.fit(X_train_corona, y_train_corona)"
   ]
  },
  {
   "cell_type": "code",
   "execution_count": 83,
   "metadata": {},
   "outputs": [
    {
     "name": "stderr",
     "output_type": "stream",
     "text": [
      "[Parallel(n_jobs=1)]: Using backend SequentialBackend with 1 concurrent workers.\n",
      "[Parallel(n_jobs=1)]: Done 500 out of 500 | elapsed:    0.0s finished\n"
     ]
    }
   ],
   "source": [
    "y_pred_corona = np.exp(scores_RF_reg_corona.predict(X_test_corona))"
   ]
  },
  {
   "cell_type": "markdown",
   "metadata": {},
   "source": [
    "## Ridge Regression"
   ]
  },
  {
   "cell_type": "code",
   "execution_count": 85,
   "metadata": {},
   "outputs": [],
   "source": [
    "# grid\n",
    "grid_RR_corona = {\n",
    "    'ridge__alpha':[0.1, 1],\n",
    "    'polynomialfeatures__degree': [1, 2]\n",
    "}\n"
   ]
  },
  {
   "cell_type": "code",
   "execution_count": 86,
   "metadata": {},
   "outputs": [],
   "source": [
    "scores_RR_reg_corona = GridSearchCV(\n",
    "    estimator=RR_pipeline,\n",
    "    param_grid=grid_RR_corona,\n",
    "    scoring= 'neg_mean_squared_error',\n",
    "    cv=3, \n",
    "    n_jobs= 4,\n",
    "    verbose=True,\n",
    "    return_train_score=True\n",
    ")"
   ]
  },
  {
   "cell_type": "code",
   "execution_count": 95,
   "metadata": {},
   "outputs": [
    {
     "name": "stdout",
     "output_type": "stream",
     "text": [
      "CPU times: user 1.86 s, sys: 223 ms, total: 2.08 s\n",
      "Wall time: 29min 45s\n"
     ]
    }
   ],
   "source": [
    "%%time\n",
    "%%capture\n",
    "scores_RR_reg_corona.fit(X_train_corona, y_train_corona)"
   ]
  },
  {
   "cell_type": "code",
   "execution_count": 88,
   "metadata": {},
   "outputs": [
    {
     "data": {
      "text/html": [
       "<div>\n",
       "<style scoped>\n",
       "    .dataframe tbody tr th:only-of-type {\n",
       "        vertical-align: middle;\n",
       "    }\n",
       "\n",
       "    .dataframe tbody tr th {\n",
       "        vertical-align: top;\n",
       "    }\n",
       "\n",
       "    .dataframe thead th {\n",
       "        text-align: right;\n",
       "    }\n",
       "</style>\n",
       "<table border=\"1\" class=\"dataframe\">\n",
       "  <thead>\n",
       "    <tr style=\"text-align: right;\">\n",
       "      <th></th>\n",
       "      <th>rank_test_score</th>\n",
       "      <th>mean_test_score</th>\n",
       "      <th>mean_train_score</th>\n",
       "      <th>param_ridge__alpha</th>\n",
       "      <th>param_polynomialfeatures__degree</th>\n",
       "    </tr>\n",
       "  </thead>\n",
       "  <tbody>\n",
       "    <tr>\n",
       "      <th>1</th>\n",
       "      <td>1</td>\n",
       "      <td>-1.126507</td>\n",
       "      <td>-1.060507e-01</td>\n",
       "      <td>1</td>\n",
       "      <td>1</td>\n",
       "    </tr>\n",
       "    <tr>\n",
       "      <th>0</th>\n",
       "      <td>2</td>\n",
       "      <td>-1.300106</td>\n",
       "      <td>-1.196795e-02</td>\n",
       "      <td>0.1</td>\n",
       "      <td>1</td>\n",
       "    </tr>\n",
       "    <tr>\n",
       "      <th>3</th>\n",
       "      <td>3</td>\n",
       "      <td>-11.868989</td>\n",
       "      <td>-1.809901e-06</td>\n",
       "      <td>1</td>\n",
       "      <td>2</td>\n",
       "    </tr>\n",
       "    <tr>\n",
       "      <th>2</th>\n",
       "      <td>4</td>\n",
       "      <td>-11.883150</td>\n",
       "      <td>-1.830342e-08</td>\n",
       "      <td>0.1</td>\n",
       "      <td>2</td>\n",
       "    </tr>\n",
       "  </tbody>\n",
       "</table>\n",
       "</div>"
      ],
      "text/plain": [
       "   rank_test_score  mean_test_score  mean_train_score param_ridge__alpha  \\\n",
       "1                1        -1.126507     -1.060507e-01                  1   \n",
       "0                2        -1.300106     -1.196795e-02                0.1   \n",
       "3                3       -11.868989     -1.809901e-06                  1   \n",
       "2                4       -11.883150     -1.830342e-08                0.1   \n",
       "\n",
       "  param_polynomialfeatures__degree  \n",
       "1                                1  \n",
       "0                                1  \n",
       "3                                2  \n",
       "2                                2  "
      ]
     },
     "execution_count": 88,
     "metadata": {},
     "output_type": "execute_result"
    }
   ],
   "source": [
    "# analyze the output\n",
    "cv_results_RR_reg_corona = pd.DataFrame(scores_RR_reg_corona.cv_results_)\n",
    "cv_results_RR_reg_corona[[\n",
    "    'rank_test_score',\n",
    "    'mean_test_score', \n",
    "    'mean_train_score',\n",
    "    'param_ridge__alpha',\n",
    "    'param_polynomialfeatures__degree'\n",
    "    ]].sort_values('rank_test_score')"
   ]
  },
  {
   "cell_type": "code",
   "execution_count": 89,
   "metadata": {},
   "outputs": [],
   "source": [
    "%%capture\n",
    "# fit using best estimators\n",
    "scores_RR_reg_corona.best_estimator_.fit(X_train_corona, y_train_corona)"
   ]
  },
  {
   "cell_type": "code",
   "execution_count": 96,
   "metadata": {},
   "outputs": [],
   "source": [
    "y_pred_corona_RR = np.exp(scores_RR_reg_corona.predict(X_test_corona))"
   ]
  },
  {
   "cell_type": "markdown",
   "metadata": {},
   "source": [
    "### Comparing model results"
   ]
  },
  {
   "cell_type": "code",
   "execution_count": 91,
   "metadata": {},
   "outputs": [
    {
     "data": {
      "text/plain": [
       "0.6367274075428507"
      ]
     },
     "execution_count": 91,
     "metadata": {},
     "output_type": "execute_result"
    }
   ],
   "source": [
    "# Random Forest\n",
    "mean_squared_log_error(y_pred_corona, y_test_corona)"
   ]
  },
  {
   "cell_type": "code",
   "execution_count": 99,
   "metadata": {
    "scrolled": true
   },
   "outputs": [
    {
     "data": {
      "text/plain": [
       "0.696719978386236"
      ]
     },
     "execution_count": 99,
     "metadata": {},
     "output_type": "execute_result"
    }
   ],
   "source": [
    "# Ridge\n",
    "mean_squared_log_error(y_pred_corona_RR, y_test_corona)"
   ]
  },
  {
   "cell_type": "code",
   "execution_count": 93,
   "metadata": {},
   "outputs": [
    {
     "data": {
      "text/plain": [
       "0.5206066685175178"
      ]
     },
     "execution_count": 93,
     "metadata": {},
     "output_type": "execute_result"
    }
   ],
   "source": [
    "# Combined models\n",
    "mean_squared_log_error((y_pred_corona_RR+y_pred_corona)/2, y_test_corona)"
   ]
  },
  {
   "cell_type": "markdown",
   "metadata": {},
   "source": [
    "Again, the combined model yields the best predicitons"
   ]
  },
  {
   "cell_type": "code",
   "execution_count": 97,
   "metadata": {},
   "outputs": [
    {
     "data": {
      "image/png": "[encoded data removed]",
      "text/plain": [
       "<Figure size 1080x720 with 1 Axes>"
      ]
     },
     "metadata": {
      "needs_background": "light"
     },
     "output_type": "display_data"
    }
   ],
   "source": [
    "fig = plt.figure(figsize=(15, 10)) \n",
    "ax = fig.add_subplot()\n",
    "pal = sns.color_palette(\"GnBu\", 1)\n",
    "sns.scatterplot((y_pred_corona_RR+y_pred_corona)/2, y_test_corona, c = pal, ax=ax)\n",
    "ax.plot(y_test_corona, y_test_corona, c = 'black')\n",
    "\n",
    "ax.set_title('Prediction accuracy combined model - Corona', fontdict = title_font) \n",
    "ax.set_xlabel('Predicted fee [Mio €]', fontdict = ax_font)\n",
    "ax.set_ylabel('Actual fee [Mio €]', fontdict = ax_font)\n",
    "ax.set_xticklabels(labels = ax.get_xticks()/1000000, fontdict = ticker_font)\n",
    "ax.set_yticklabels(labels = ax.get_yticks()/1000000, fontdict = ticker_font)\n",
    "\n",
    "ax.spines['top'].set_visible(False)\n",
    "ax.spines['right'].set_visible(False)\n",
    "ax.spines['bottom'].set_visible(False)\n",
    "ax.spines['left'].set_visible(False)\n",
    "\n",
    "fig.savefig('./presentation/assets/corona_model_accuracy_combinded.png', transparent=True)"
   ]
  },
  {
   "cell_type": "markdown",
   "metadata": {},
   "source": [
    "### Preparing the output"
   ]
  },
  {
   "cell_type": "code",
   "execution_count": 114,
   "metadata": {},
   "outputs": [
    {
     "data": {
      "text/html": [
       "<div>\n",
       "<style scoped>\n",
       "    .dataframe tbody tr th:only-of-type {\n",
       "        vertical-align: middle;\n",
       "    }\n",
       "\n",
       "    .dataframe tbody tr th {\n",
       "        vertical-align: top;\n",
       "    }\n",
       "\n",
       "    .dataframe thead th {\n",
       "        text-align: right;\n",
       "    }\n",
       "</style>\n",
       "<table border=\"1\" class=\"dataframe\">\n",
       "  <thead>\n",
       "    <tr style=\"text-align: right;\">\n",
       "      <th></th>\n",
       "      <th>period</th>\n",
       "      <th>player_id</th>\n",
       "      <th>receiving_team_id</th>\n",
       "      <th>position</th>\n",
       "      <th>actual_values</th>\n",
       "      <th>RF_prediction</th>\n",
       "      <th>RR_prediction</th>\n",
       "      <th>combined_prediction</th>\n",
       "      <th>delta</th>\n",
       "      <th>percentual_deviation</th>\n",
       "    </tr>\n",
       "  </thead>\n",
       "  <tbody>\n",
       "    <tr>\n",
       "      <th>2510</th>\n",
       "      <td>s</td>\n",
       "      <td>281963</td>\n",
       "      <td>27</td>\n",
       "      <td>defense</td>\n",
       "      <td>80000000.0</td>\n",
       "      <td>11083338.0</td>\n",
       "      <td>115561348.0</td>\n",
       "      <td>63322343.0</td>\n",
       "      <td>16677657.0</td>\n",
       "      <td>20.8</td>\n",
       "    </tr>\n",
       "    <tr>\n",
       "      <th>2511</th>\n",
       "      <td>s</td>\n",
       "      <td>353366</td>\n",
       "      <td>27</td>\n",
       "      <td>defense</td>\n",
       "      <td>35000000.0</td>\n",
       "      <td>7092906.0</td>\n",
       "      <td>43509945.0</td>\n",
       "      <td>25301425.5</td>\n",
       "      <td>9698574.5</td>\n",
       "      <td>27.7</td>\n",
       "    </tr>\n",
       "    <tr>\n",
       "      <th>2512</th>\n",
       "      <td>s</td>\n",
       "      <td>344600</td>\n",
       "      <td>27</td>\n",
       "      <td>midfield</td>\n",
       "      <td>8000000.0</td>\n",
       "      <td>2985485.0</td>\n",
       "      <td>13160612.0</td>\n",
       "      <td>8073048.5</td>\n",
       "      <td>-73048.5</td>\n",
       "      <td>-0.9</td>\n",
       "    </tr>\n",
       "    <tr>\n",
       "      <th>2513</th>\n",
       "      <td>s</td>\n",
       "      <td>343337</td>\n",
       "      <td>27</td>\n",
       "      <td>striker</td>\n",
       "      <td>3000000.0</td>\n",
       "      <td>5358706.0</td>\n",
       "      <td>29679074.0</td>\n",
       "      <td>17518890.0</td>\n",
       "      <td>-14518890.0</td>\n",
       "      <td>-484.0</td>\n",
       "    </tr>\n",
       "    <tr>\n",
       "      <th>2514</th>\n",
       "      <td>s</td>\n",
       "      <td>39728</td>\n",
       "      <td>16</td>\n",
       "      <td>defense</td>\n",
       "      <td>30500000.0</td>\n",
       "      <td>9056281.0</td>\n",
       "      <td>15428234.0</td>\n",
       "      <td>12242257.5</td>\n",
       "      <td>18257742.5</td>\n",
       "      <td>59.9</td>\n",
       "    </tr>\n",
       "    <tr>\n",
       "      <th>...</th>\n",
       "      <td>...</td>\n",
       "      <td>...</td>\n",
       "      <td>...</td>\n",
       "      <td>...</td>\n",
       "      <td>...</td>\n",
       "      <td>...</td>\n",
       "      <td>...</td>\n",
       "      <td>...</td>\n",
       "      <td>...</td>\n",
       "      <td>...</td>\n",
       "    </tr>\n",
       "    <tr>\n",
       "      <th>2634</th>\n",
       "      <td>w</td>\n",
       "      <td>327757</td>\n",
       "      <td>44</td>\n",
       "      <td>striker</td>\n",
       "      <td>24000000.0</td>\n",
       "      <td>7924165.0</td>\n",
       "      <td>15195581.0</td>\n",
       "      <td>11559873.0</td>\n",
       "      <td>12440127.0</td>\n",
       "      <td>51.8</td>\n",
       "    </tr>\n",
       "    <tr>\n",
       "      <th>2635</th>\n",
       "      <td>w</td>\n",
       "      <td>517894</td>\n",
       "      <td>44</td>\n",
       "      <td>striker</td>\n",
       "      <td>18000000.0</td>\n",
       "      <td>6537369.0</td>\n",
       "      <td>15660612.0</td>\n",
       "      <td>11098990.5</td>\n",
       "      <td>6901009.5</td>\n",
       "      <td>38.3</td>\n",
       "    </tr>\n",
       "    <tr>\n",
       "      <th>2636</th>\n",
       "      <td>w</td>\n",
       "      <td>423436</td>\n",
       "      <td>44</td>\n",
       "      <td>midfield</td>\n",
       "      <td>10000000.0</td>\n",
       "      <td>4189909.0</td>\n",
       "      <td>9822379.0</td>\n",
       "      <td>7006144.0</td>\n",
       "      <td>2993856.0</td>\n",
       "      <td>29.9</td>\n",
       "    </tr>\n",
       "    <tr>\n",
       "      <th>2637</th>\n",
       "      <td>w</td>\n",
       "      <td>240408</td>\n",
       "      <td>127</td>\n",
       "      <td>midfield</td>\n",
       "      <td>400000.0</td>\n",
       "      <td>1371277.0</td>\n",
       "      <td>872585.0</td>\n",
       "      <td>1121931.0</td>\n",
       "      <td>-721931.0</td>\n",
       "      <td>-180.5</td>\n",
       "    </tr>\n",
       "    <tr>\n",
       "      <th>2638</th>\n",
       "      <td>w</td>\n",
       "      <td>159239</td>\n",
       "      <td>127</td>\n",
       "      <td>striker</td>\n",
       "      <td>200000.0</td>\n",
       "      <td>1868651.0</td>\n",
       "      <td>2368859.0</td>\n",
       "      <td>2118755.0</td>\n",
       "      <td>-1918755.0</td>\n",
       "      <td>-959.4</td>\n",
       "    </tr>\n",
       "  </tbody>\n",
       "</table>\n",
       "<p>91 rows × 10 columns</p>\n",
       "</div>"
      ],
      "text/plain": [
       "     period  player_id  receiving_team_id  position  actual_values  \\\n",
       "2510      s     281963                 27   defense     80000000.0   \n",
       "2511      s     353366                 27   defense     35000000.0   \n",
       "2512      s     344600                 27  midfield      8000000.0   \n",
       "2513      s     343337                 27   striker      3000000.0   \n",
       "2514      s      39728                 16   defense     30500000.0   \n",
       "...     ...        ...                ...       ...            ...   \n",
       "2634      w     327757                 44   striker     24000000.0   \n",
       "2635      w     517894                 44   striker     18000000.0   \n",
       "2636      w     423436                 44  midfield     10000000.0   \n",
       "2637      w     240408                127  midfield       400000.0   \n",
       "2638      w     159239                127   striker       200000.0   \n",
       "\n",
       "      RF_prediction  RR_prediction  combined_prediction       delta  \\\n",
       "2510     11083338.0    115561348.0           63322343.0  16677657.0   \n",
       "2511      7092906.0     43509945.0           25301425.5   9698574.5   \n",
       "2512      2985485.0     13160612.0            8073048.5    -73048.5   \n",
       "2513      5358706.0     29679074.0           17518890.0 -14518890.0   \n",
       "2514      9056281.0     15428234.0           12242257.5  18257742.5   \n",
       "...             ...            ...                  ...         ...   \n",
       "2634      7924165.0     15195581.0           11559873.0  12440127.0   \n",
       "2635      6537369.0     15660612.0           11098990.5   6901009.5   \n",
       "2636      4189909.0      9822379.0            7006144.0   2993856.0   \n",
       "2637      1371277.0       872585.0            1121931.0   -721931.0   \n",
       "2638      1868651.0      2368859.0            2118755.0  -1918755.0   \n",
       "\n",
       "      percentual_deviation  \n",
       "2510                  20.8  \n",
       "2511                  27.7  \n",
       "2512                  -0.9  \n",
       "2513                -484.0  \n",
       "2514                  59.9  \n",
       "...                    ...  \n",
       "2634                  51.8  \n",
       "2635                  38.3  \n",
       "2636                  29.9  \n",
       "2637                -180.5  \n",
       "2638                -959.4  \n",
       "\n",
       "[91 rows x 10 columns]"
      ]
     },
     "execution_count": 114,
     "metadata": {},
     "output_type": "execute_result"
    }
   ],
   "source": [
    "results_df = pd.DataFrame({'period':X_test['period'],\n",
    "                            'player_id': X_test['player_ids'],\n",
    "                           'receiving_team_id': X_test['receiving_team_ids'],\n",
    "                           'position': X_test['positions'],\n",
    "                            'actual_values':y_test,\n",
    "                          'RF_prediction': y_pred.round(),\n",
    "                           'RR_prediction': y_pred_RR.round()\n",
    "                          })\n",
    "\n",
    "results_df['position'] = results_df['position'].apply(lambda x: 'defense' if 'Abwehr' in str(x) \n",
    "                                                      else 'midfield' if 'Mittelfeld' in str(x) \n",
    "                                                      else 'striker' if 'Sturm' in str(x)\n",
    "                                                      else x)\n",
    "results_df['combined_prediction'] = (results_df['RF_prediction'] + results_df['RR_prediction'])/2\n",
    "results_df['delta'] = results_df['actual_values'] - results_df['combined_prediction']\n",
    "results_df['percentual_deviation'] = round(results_df['delta'] / results_df['actual_values'], 3)*100\n",
    "results_df.to_csv('results.csv', encoding = 'utf-8')\n",
    "results_df"
   ]
  },
  {
   "cell_type": "code",
   "execution_count": 100,
   "metadata": {},
   "outputs": [],
   "source": [
    "results_df_corona = pd.DataFrame({'player_id': X_test_corona['player_ids'],\n",
    "                           'receiving_team_id': X_test_corona['receiving_team_ids'],\n",
    "                           'position': X_test_corona['positions'],\n",
    "                            'actual_values':y_test_corona,\n",
    "                           'RF_prediction': y_pred_corona.round(),\n",
    "                           'RR_prediction': y_pred_corona_RR.round()\n",
    "                          })\n",
    "\n",
    "results_df_corona['position'] = results_df_corona['position'].apply(lambda x: 'defense' if 'Abwehr' in str(x) \n",
    "                                                      else 'midfield' if 'Mittelfeld' in str(x) \n",
    "                                                      else 'striker' if 'Sturm' in str(x)\n",
    "                                                      else x)\n",
    "results_df_corona['combined_prediction'] = (results_df_corona['RF_prediction'] + results_df_corona['RR_prediction'])/2\n",
    "results_df_corona['delta'] = results_df_corona['actual_values'] - results_df_corona['combined_prediction']\n",
    "results_df_corona['percentual_deviation'] = round(results_df_corona['delta'] / results_df_corona['actual_values'], 3)*100\n",
    "results_df_corona.to_csv('results_corona.csv', encoding = 'utf-8')"
   ]
  },
  {
   "cell_type": "code",
   "execution_count": 101,
   "metadata": {
    "collapsed": true
   },
   "outputs": [
    {
     "data": {
      "text/html": [
       "<style  type=\"text/css\" >\n",
       "</style><table id=\"T_7b9d29f6_4918_11eb_b968_acde48001122\" ><thead>    <tr>        <th class=\"blank level0\" ></th>        <th class=\"col_heading level0 col0\" >player_id</th>        <th class=\"col_heading level0 col1\" >receiving_team_id</th>        <th class=\"col_heading level0 col2\" >position</th>        <th class=\"col_heading level0 col3\" >actual_values</th>        <th class=\"col_heading level0 col4\" >RF_prediction</th>        <th class=\"col_heading level0 col5\" >RR_prediction</th>        <th class=\"col_heading level0 col6\" >combined_prediction</th>        <th class=\"col_heading level0 col7\" >delta</th>        <th class=\"col_heading level0 col8\" >percentual_deviation</th>    </tr></thead><tbody>\n",
       "                <tr>\n",
       "                        <th id=\"T_7b9d29f6_4918_11eb_b968_acde48001122level0_row0\" class=\"row_heading level0 row0\" >2640</th>\n",
       "                        <td id=\"T_7b9d29f6_4918_11eb_b968_acde48001122row0_col0\" class=\"data row0 col0\" >192565</td>\n",
       "                        <td id=\"T_7b9d29f6_4918_11eb_b968_acde48001122row0_col1\" class=\"data row0 col1\" >27</td>\n",
       "                        <td id=\"T_7b9d29f6_4918_11eb_b968_acde48001122row0_col2\" class=\"data row0 col2\" >striker</td>\n",
       "                        <td id=\"T_7b9d29f6_4918_11eb_b968_acde48001122row0_col3\" class=\"data row0 col3\" >45,000,000.0</td>\n",
       "                        <td id=\"T_7b9d29f6_4918_11eb_b968_acde48001122row0_col4\" class=\"data row0 col4\" >19,484,833.0</td>\n",
       "                        <td id=\"T_7b9d29f6_4918_11eb_b968_acde48001122row0_col5\" class=\"data row0 col5\" >64,244,720.0</td>\n",
       "                        <td id=\"T_7b9d29f6_4918_11eb_b968_acde48001122row0_col6\" class=\"data row0 col6\" >41,864,776.0</td>\n",
       "                        <td id=\"T_7b9d29f6_4918_11eb_b968_acde48001122row0_col7\" class=\"data row0 col7\" >3,135,224.0</td>\n",
       "                        <td id=\"T_7b9d29f6_4918_11eb_b968_acde48001122row0_col8\" class=\"data row0 col8\" >7.0</td>\n",
       "            </tr>\n",
       "            <tr>\n",
       "                        <th id=\"T_7b9d29f6_4918_11eb_b968_acde48001122level0_row1\" class=\"row_heading level0 row1\" >2641</th>\n",
       "                        <td id=\"T_7b9d29f6_4918_11eb_b968_acde48001122row1_col0\" class=\"data row1 col0\" >336869</td>\n",
       "                        <td id=\"T_7b9d29f6_4918_11eb_b968_acde48001122row1_col1\" class=\"data row1 col1\" >27</td>\n",
       "                        <td id=\"T_7b9d29f6_4918_11eb_b968_acde48001122row1_col2\" class=\"data row1 col2\" >midfield</td>\n",
       "                        <td id=\"T_7b9d29f6_4918_11eb_b968_acde48001122row1_col3\" class=\"data row1 col3\" >9,000,000.0</td>\n",
       "                        <td id=\"T_7b9d29f6_4918_11eb_b968_acde48001122row1_col4\" class=\"data row1 col4\" >15,143,470.0</td>\n",
       "                        <td id=\"T_7b9d29f6_4918_11eb_b968_acde48001122row1_col5\" class=\"data row1 col5\" >83,065,418.0</td>\n",
       "                        <td id=\"T_7b9d29f6_4918_11eb_b968_acde48001122row1_col6\" class=\"data row1 col6\" >49,104,444.0</td>\n",
       "                        <td id=\"T_7b9d29f6_4918_11eb_b968_acde48001122row1_col7\" class=\"data row1 col7\" >-40,104,444.0</td>\n",
       "                        <td id=\"T_7b9d29f6_4918_11eb_b968_acde48001122row1_col8\" class=\"data row1 col8\" >-446.0</td>\n",
       "            </tr>\n",
       "            <tr>\n",
       "                        <th id=\"T_7b9d29f6_4918_11eb_b968_acde48001122level0_row2\" class=\"row_heading level0 row2\" >2645</th>\n",
       "                        <td id=\"T_7b9d29f6_4918_11eb_b968_acde48001122row2_col0\" class=\"data row2 col0\" >190685</td>\n",
       "                        <td id=\"T_7b9d29f6_4918_11eb_b968_acde48001122row2_col1\" class=\"data row2 col1\" >27</td>\n",
       "                        <td id=\"T_7b9d29f6_4918_11eb_b968_acde48001122row2_col2\" class=\"data row2 col2\" >defense</td>\n",
       "                        <td id=\"T_7b9d29f6_4918_11eb_b968_acde48001122row2_col3\" class=\"data row2 col3\" >8,000,000.0</td>\n",
       "                        <td id=\"T_7b9d29f6_4918_11eb_b968_acde48001122row2_col4\" class=\"data row2 col4\" >15,528,220.0</td>\n",
       "                        <td id=\"T_7b9d29f6_4918_11eb_b968_acde48001122row2_col5\" class=\"data row2 col5\" >38,717,150.0</td>\n",
       "                        <td id=\"T_7b9d29f6_4918_11eb_b968_acde48001122row2_col6\" class=\"data row2 col6\" >27,122,685.0</td>\n",
       "                        <td id=\"T_7b9d29f6_4918_11eb_b968_acde48001122row2_col7\" class=\"data row2 col7\" >-19,122,685.0</td>\n",
       "                        <td id=\"T_7b9d29f6_4918_11eb_b968_acde48001122row2_col8\" class=\"data row2 col8\" >-239.0</td>\n",
       "            </tr>\n",
       "            <tr>\n",
       "                        <th id=\"T_7b9d29f6_4918_11eb_b968_acde48001122level0_row3\" class=\"row_heading level0 row3\" >2655</th>\n",
       "                        <td id=\"T_7b9d29f6_4918_11eb_b968_acde48001122row3_col0\" class=\"data row3 col0\" >119296</td>\n",
       "                        <td id=\"T_7b9d29f6_4918_11eb_b968_acde48001122row3_col1\" class=\"data row3 col1\" >16</td>\n",
       "                        <td id=\"T_7b9d29f6_4918_11eb_b968_acde48001122row3_col2\" class=\"data row3 col2\" >midfield</td>\n",
       "                        <td id=\"T_7b9d29f6_4918_11eb_b968_acde48001122row3_col3\" class=\"data row3 col3\" >25,000,000.0</td>\n",
       "                        <td id=\"T_7b9d29f6_4918_11eb_b968_acde48001122row3_col4\" class=\"data row3 col4\" >17,008,563.0</td>\n",
       "                        <td id=\"T_7b9d29f6_4918_11eb_b968_acde48001122row3_col5\" class=\"data row3 col5\" >67,164,171.0</td>\n",
       "                        <td id=\"T_7b9d29f6_4918_11eb_b968_acde48001122row3_col6\" class=\"data row3 col6\" >42,086,367.0</td>\n",
       "                        <td id=\"T_7b9d29f6_4918_11eb_b968_acde48001122row3_col7\" class=\"data row3 col7\" >-17,086,367.0</td>\n",
       "                        <td id=\"T_7b9d29f6_4918_11eb_b968_acde48001122row3_col8\" class=\"data row3 col8\" >-68.0</td>\n",
       "            </tr>\n",
       "            <tr>\n",
       "                        <th id=\"T_7b9d29f6_4918_11eb_b968_acde48001122level0_row4\" class=\"row_heading level0 row4\" >2656</th>\n",
       "                        <td id=\"T_7b9d29f6_4918_11eb_b968_acde48001122row4_col0\" class=\"data row4 col0\" >581678</td>\n",
       "                        <td id=\"T_7b9d29f6_4918_11eb_b968_acde48001122row4_col1\" class=\"data row4 col1\" >16</td>\n",
       "                        <td id=\"T_7b9d29f6_4918_11eb_b968_acde48001122row4_col2\" class=\"data row4 col2\" >midfield</td>\n",
       "                        <td id=\"T_7b9d29f6_4918_11eb_b968_acde48001122row4_col3\" class=\"data row4 col3\" >23,000,000.0</td>\n",
       "                        <td id=\"T_7b9d29f6_4918_11eb_b968_acde48001122row4_col4\" class=\"data row4 col4\" >7,962,487.0</td>\n",
       "                        <td id=\"T_7b9d29f6_4918_11eb_b968_acde48001122row4_col5\" class=\"data row4 col5\" >9,369,347.0</td>\n",
       "                        <td id=\"T_7b9d29f6_4918_11eb_b968_acde48001122row4_col6\" class=\"data row4 col6\" >8,665,917.0</td>\n",
       "                        <td id=\"T_7b9d29f6_4918_11eb_b968_acde48001122row4_col7\" class=\"data row4 col7\" >14,334,083.0</td>\n",
       "                        <td id=\"T_7b9d29f6_4918_11eb_b968_acde48001122row4_col8\" class=\"data row4 col8\" >62.0</td>\n",
       "            </tr>\n",
       "            <tr>\n",
       "                        <th id=\"T_7b9d29f6_4918_11eb_b968_acde48001122level0_row5\" class=\"row_heading level0 row5\" >2658</th>\n",
       "                        <td id=\"T_7b9d29f6_4918_11eb_b968_acde48001122row5_col0\" class=\"data row5 col0\" >238407</td>\n",
       "                        <td id=\"T_7b9d29f6_4918_11eb_b968_acde48001122row5_col1\" class=\"data row5 col1\" >23826</td>\n",
       "                        <td id=\"T_7b9d29f6_4918_11eb_b968_acde48001122row5_col2\" class=\"data row5 col2\" >striker</td>\n",
       "                        <td id=\"T_7b9d29f6_4918_11eb_b968_acde48001122row5_col3\" class=\"data row5 col3\" >20,000,000.0</td>\n",
       "                        <td id=\"T_7b9d29f6_4918_11eb_b968_acde48001122row5_col4\" class=\"data row5 col4\" >12,646,130.0</td>\n",
       "                        <td id=\"T_7b9d29f6_4918_11eb_b968_acde48001122row5_col5\" class=\"data row5 col5\" >14,234,739.0</td>\n",
       "                        <td id=\"T_7b9d29f6_4918_11eb_b968_acde48001122row5_col6\" class=\"data row5 col6\" >13,440,434.0</td>\n",
       "                        <td id=\"T_7b9d29f6_4918_11eb_b968_acde48001122row5_col7\" class=\"data row5 col7\" >6,559,566.0</td>\n",
       "                        <td id=\"T_7b9d29f6_4918_11eb_b968_acde48001122row5_col8\" class=\"data row5 col8\" >33.0</td>\n",
       "            </tr>\n",
       "            <tr>\n",
       "                        <th id=\"T_7b9d29f6_4918_11eb_b968_acde48001122level0_row6\" class=\"row_heading level0 row6\" >2659</th>\n",
       "                        <td id=\"T_7b9d29f6_4918_11eb_b968_acde48001122row6_col0\" class=\"data row6 col0\" >292246</td>\n",
       "                        <td id=\"T_7b9d29f6_4918_11eb_b968_acde48001122row6_col1\" class=\"data row6 col1\" >23826</td>\n",
       "                        <td id=\"T_7b9d29f6_4918_11eb_b968_acde48001122row6_col2\" class=\"data row6 col2\" >striker</td>\n",
       "                        <td id=\"T_7b9d29f6_4918_11eb_b968_acde48001122row6_col3\" class=\"data row6 col3\" >9,000,000.0</td>\n",
       "                        <td id=\"T_7b9d29f6_4918_11eb_b968_acde48001122row6_col4\" class=\"data row6 col4\" >11,498,081.0</td>\n",
       "                        <td id=\"T_7b9d29f6_4918_11eb_b968_acde48001122row6_col5\" class=\"data row6 col5\" >29,713,261.0</td>\n",
       "                        <td id=\"T_7b9d29f6_4918_11eb_b968_acde48001122row6_col6\" class=\"data row6 col6\" >20,605,671.0</td>\n",
       "                        <td id=\"T_7b9d29f6_4918_11eb_b968_acde48001122row6_col7\" class=\"data row6 col7\" >-11,605,671.0</td>\n",
       "                        <td id=\"T_7b9d29f6_4918_11eb_b968_acde48001122row6_col8\" class=\"data row6 col8\" >-129.0</td>\n",
       "            </tr>\n",
       "            <tr>\n",
       "                        <th id=\"T_7b9d29f6_4918_11eb_b968_acde48001122level0_row7\" class=\"row_heading level0 row7\" >2661</th>\n",
       "                        <td id=\"T_7b9d29f6_4918_11eb_b968_acde48001122row7_col0\" class=\"data row7 col0\" >528833</td>\n",
       "                        <td id=\"T_7b9d29f6_4918_11eb_b968_acde48001122row7_col1\" class=\"data row7 col1\" >23826</td>\n",
       "                        <td id=\"T_7b9d29f6_4918_11eb_b968_acde48001122row7_col2\" class=\"data row7 col2\" >midfield</td>\n",
       "                        <td id=\"T_7b9d29f6_4918_11eb_b968_acde48001122row7_col3\" class=\"data row7 col3\" >500,000.0</td>\n",
       "                        <td id=\"T_7b9d29f6_4918_11eb_b968_acde48001122row7_col4\" class=\"data row7 col4\" >6,921,337.0</td>\n",
       "                        <td id=\"T_7b9d29f6_4918_11eb_b968_acde48001122row7_col5\" class=\"data row7 col5\" >3,473,998.0</td>\n",
       "                        <td id=\"T_7b9d29f6_4918_11eb_b968_acde48001122row7_col6\" class=\"data row7 col6\" >5,197,668.0</td>\n",
       "                        <td id=\"T_7b9d29f6_4918_11eb_b968_acde48001122row7_col7\" class=\"data row7 col7\" >-4,697,668.0</td>\n",
       "                        <td id=\"T_7b9d29f6_4918_11eb_b968_acde48001122row7_col8\" class=\"data row7 col8\" >-940.0</td>\n",
       "            </tr>\n",
       "            <tr>\n",
       "                        <th id=\"T_7b9d29f6_4918_11eb_b968_acde48001122level0_row8\" class=\"row_heading level0 row8\" >2662</th>\n",
       "                        <td id=\"T_7b9d29f6_4918_11eb_b968_acde48001122row8_col0\" class=\"data row8 col0\" >242086</td>\n",
       "                        <td id=\"T_7b9d29f6_4918_11eb_b968_acde48001122row8_col1\" class=\"data row8 col1\" >15</td>\n",
       "                        <td id=\"T_7b9d29f6_4918_11eb_b968_acde48001122row8_col2\" class=\"data row8 col2\" >striker</td>\n",
       "                        <td id=\"T_7b9d29f6_4918_11eb_b968_acde48001122row8_col3\" class=\"data row8 col3\" >26,500,000.0</td>\n",
       "                        <td id=\"T_7b9d29f6_4918_11eb_b968_acde48001122row8_col4\" class=\"data row8 col4\" >8,413,362.0</td>\n",
       "                        <td id=\"T_7b9d29f6_4918_11eb_b968_acde48001122row8_col5\" class=\"data row8 col5\" >47,073,603.0</td>\n",
       "                        <td id=\"T_7b9d29f6_4918_11eb_b968_acde48001122row8_col6\" class=\"data row8 col6\" >27,743,482.0</td>\n",
       "                        <td id=\"T_7b9d29f6_4918_11eb_b968_acde48001122row8_col7\" class=\"data row8 col7\" >-1,243,482.0</td>\n",
       "                        <td id=\"T_7b9d29f6_4918_11eb_b968_acde48001122row8_col8\" class=\"data row8 col8\" >-5.0</td>\n",
       "            </tr>\n",
       "            <tr>\n",
       "                        <th id=\"T_7b9d29f6_4918_11eb_b968_acde48001122level0_row9\" class=\"row_heading level0 row9\" >2664</th>\n",
       "                        <td id=\"T_7b9d29f6_4918_11eb_b968_acde48001122row9_col0\" class=\"data row9 col0\" >215864</td>\n",
       "                        <td id=\"T_7b9d29f6_4918_11eb_b968_acde48001122row9_col1\" class=\"data row9 col1\" >533</td>\n",
       "                        <td id=\"T_7b9d29f6_4918_11eb_b968_acde48001122row9_col2\" class=\"data row9 col2\" >midfield</td>\n",
       "                        <td id=\"T_7b9d29f6_4918_11eb_b968_acde48001122row9_col3\" class=\"data row9 col3\" >3,000,000.0</td>\n",
       "                        <td id=\"T_7b9d29f6_4918_11eb_b968_acde48001122row9_col4\" class=\"data row9 col4\" >4,502,738.0</td>\n",
       "                        <td id=\"T_7b9d29f6_4918_11eb_b968_acde48001122row9_col5\" class=\"data row9 col5\" >13,333,829.0</td>\n",
       "                        <td id=\"T_7b9d29f6_4918_11eb_b968_acde48001122row9_col6\" class=\"data row9 col6\" >8,918,284.0</td>\n",
       "                        <td id=\"T_7b9d29f6_4918_11eb_b968_acde48001122row9_col7\" class=\"data row9 col7\" >-5,918,284.0</td>\n",
       "                        <td id=\"T_7b9d29f6_4918_11eb_b968_acde48001122row9_col8\" class=\"data row9 col8\" >-197.0</td>\n",
       "            </tr>\n",
       "            <tr>\n",
       "                        <th id=\"T_7b9d29f6_4918_11eb_b968_acde48001122level0_row10\" class=\"row_heading level0 row10\" >2665</th>\n",
       "                        <td id=\"T_7b9d29f6_4918_11eb_b968_acde48001122row10_col0\" class=\"data row10 col0\" >327251</td>\n",
       "                        <td id=\"T_7b9d29f6_4918_11eb_b968_acde48001122row10_col1\" class=\"data row10 col1\" >82</td>\n",
       "                        <td id=\"T_7b9d29f6_4918_11eb_b968_acde48001122row10_col2\" class=\"data row10 col2\" >defense</td>\n",
       "                        <td id=\"T_7b9d29f6_4918_11eb_b968_acde48001122row10_col3\" class=\"data row10 col3\" >10,000,000.0</td>\n",
       "                        <td id=\"T_7b9d29f6_4918_11eb_b968_acde48001122row10_col4\" class=\"data row10 col4\" >4,657,691.0</td>\n",
       "                        <td id=\"T_7b9d29f6_4918_11eb_b968_acde48001122row10_col5\" class=\"data row10 col5\" >12,971,306.0</td>\n",
       "                        <td id=\"T_7b9d29f6_4918_11eb_b968_acde48001122row10_col6\" class=\"data row10 col6\" >8,814,498.0</td>\n",
       "                        <td id=\"T_7b9d29f6_4918_11eb_b968_acde48001122row10_col7\" class=\"data row10 col7\" >1,185,502.0</td>\n",
       "                        <td id=\"T_7b9d29f6_4918_11eb_b968_acde48001122row10_col8\" class=\"data row10 col8\" >12.0</td>\n",
       "            </tr>\n",
       "            <tr>\n",
       "                        <th id=\"T_7b9d29f6_4918_11eb_b968_acde48001122level0_row11\" class=\"row_heading level0 row11\" >2669</th>\n",
       "                        <td id=\"T_7b9d29f6_4918_11eb_b968_acde48001122row11_col0\" class=\"data row11 col0\" >535551</td>\n",
       "                        <td id=\"T_7b9d29f6_4918_11eb_b968_acde48001122row11_col1\" class=\"data row11 col1\" >82</td>\n",
       "                        <td id=\"T_7b9d29f6_4918_11eb_b968_acde48001122row11_col2\" class=\"data row11 col2\" >striker</td>\n",
       "                        <td id=\"T_7b9d29f6_4918_11eb_b968_acde48001122row11_col3\" class=\"data row11 col3\" >5,000,000.0</td>\n",
       "                        <td id=\"T_7b9d29f6_4918_11eb_b968_acde48001122row11_col4\" class=\"data row11 col4\" >2,120,695.0</td>\n",
       "                        <td id=\"T_7b9d29f6_4918_11eb_b968_acde48001122row11_col5\" class=\"data row11 col5\" >3,207,586.0</td>\n",
       "                        <td id=\"T_7b9d29f6_4918_11eb_b968_acde48001122row11_col6\" class=\"data row11 col6\" >2,664,140.0</td>\n",
       "                        <td id=\"T_7b9d29f6_4918_11eb_b968_acde48001122row11_col7\" class=\"data row11 col7\" >2,335,860.0</td>\n",
       "                        <td id=\"T_7b9d29f6_4918_11eb_b968_acde48001122row11_col8\" class=\"data row11 col8\" >47.0</td>\n",
       "            </tr>\n",
       "            <tr>\n",
       "                        <th id=\"T_7b9d29f6_4918_11eb_b968_acde48001122level0_row12\" class=\"row_heading level0 row12\" >2670</th>\n",
       "                        <td id=\"T_7b9d29f6_4918_11eb_b968_acde48001122row12_col0\" class=\"data row12 col0\" >434224</td>\n",
       "                        <td id=\"T_7b9d29f6_4918_11eb_b968_acde48001122row12_col1\" class=\"data row12 col1\" >82</td>\n",
       "                        <td id=\"T_7b9d29f6_4918_11eb_b968_acde48001122row12_col2\" class=\"data row12 col2\" >defense</td>\n",
       "                        <td id=\"T_7b9d29f6_4918_11eb_b968_acde48001122row12_col3\" class=\"data row12 col3\" >5,000,000.0</td>\n",
       "                        <td id=\"T_7b9d29f6_4918_11eb_b968_acde48001122row12_col4\" class=\"data row12 col4\" >3,984,438.0</td>\n",
       "                        <td id=\"T_7b9d29f6_4918_11eb_b968_acde48001122row12_col5\" class=\"data row12 col5\" >8,174,681.0</td>\n",
       "                        <td id=\"T_7b9d29f6_4918_11eb_b968_acde48001122row12_col6\" class=\"data row12 col6\" >6,079,560.0</td>\n",
       "                        <td id=\"T_7b9d29f6_4918_11eb_b968_acde48001122row12_col7\" class=\"data row12 col7\" >-1,079,560.0</td>\n",
       "                        <td id=\"T_7b9d29f6_4918_11eb_b968_acde48001122row12_col8\" class=\"data row12 col8\" >-22.0</td>\n",
       "            </tr>\n",
       "            <tr>\n",
       "                        <th id=\"T_7b9d29f6_4918_11eb_b968_acde48001122level0_row13\" class=\"row_heading level0 row13\" >2671</th>\n",
       "                        <td id=\"T_7b9d29f6_4918_11eb_b968_acde48001122row13_col0\" class=\"data row13 col0\" >285323</td>\n",
       "                        <td id=\"T_7b9d29f6_4918_11eb_b968_acde48001122row13_col1\" class=\"data row13 col1\" >60</td>\n",
       "                        <td id=\"T_7b9d29f6_4918_11eb_b968_acde48001122row13_col2\" class=\"data row13 col2\" >midfield</td>\n",
       "                        <td id=\"T_7b9d29f6_4918_11eb_b968_acde48001122row13_col3\" class=\"data row13 col3\" >10,000,000.0</td>\n",
       "                        <td id=\"T_7b9d29f6_4918_11eb_b968_acde48001122row13_col4\" class=\"data row13 col4\" >3,555,096.0</td>\n",
       "                        <td id=\"T_7b9d29f6_4918_11eb_b968_acde48001122row13_col5\" class=\"data row13 col5\" >7,092,865.0</td>\n",
       "                        <td id=\"T_7b9d29f6_4918_11eb_b968_acde48001122row13_col6\" class=\"data row13 col6\" >5,323,980.0</td>\n",
       "                        <td id=\"T_7b9d29f6_4918_11eb_b968_acde48001122row13_col7\" class=\"data row13 col7\" >4,676,020.0</td>\n",
       "                        <td id=\"T_7b9d29f6_4918_11eb_b968_acde48001122row13_col8\" class=\"data row13 col8\" >47.0</td>\n",
       "            </tr>\n",
       "            <tr>\n",
       "                        <th id=\"T_7b9d29f6_4918_11eb_b968_acde48001122level0_row14\" class=\"row_heading level0 row14\" >2672</th>\n",
       "                        <td id=\"T_7b9d29f6_4918_11eb_b968_acde48001122row14_col0\" class=\"data row14 col0\" >335457</td>\n",
       "                        <td id=\"T_7b9d29f6_4918_11eb_b968_acde48001122row14_col1\" class=\"data row14 col1\" >60</td>\n",
       "                        <td id=\"T_7b9d29f6_4918_11eb_b968_acde48001122row14_col2\" class=\"data row14 col2\" >striker</td>\n",
       "                        <td id=\"T_7b9d29f6_4918_11eb_b968_acde48001122row14_col3\" class=\"data row14 col3\" >3,700,000.0</td>\n",
       "                        <td id=\"T_7b9d29f6_4918_11eb_b968_acde48001122row14_col4\" class=\"data row14 col4\" >2,548,602.0</td>\n",
       "                        <td id=\"T_7b9d29f6_4918_11eb_b968_acde48001122row14_col5\" class=\"data row14 col5\" >3,770,262.0</td>\n",
       "                        <td id=\"T_7b9d29f6_4918_11eb_b968_acde48001122row14_col6\" class=\"data row14 col6\" >3,159,432.0</td>\n",
       "                        <td id=\"T_7b9d29f6_4918_11eb_b968_acde48001122row14_col7\" class=\"data row14 col7\" >540,568.0</td>\n",
       "                        <td id=\"T_7b9d29f6_4918_11eb_b968_acde48001122row14_col8\" class=\"data row14 col8\" >15.0</td>\n",
       "            </tr>\n",
       "            <tr>\n",
       "                        <th id=\"T_7b9d29f6_4918_11eb_b968_acde48001122level0_row15\" class=\"row_heading level0 row15\" >2674</th>\n",
       "                        <td id=\"T_7b9d29f6_4918_11eb_b968_acde48001122row15_col0\" class=\"data row15 col0\" >198008</td>\n",
       "                        <td id=\"T_7b9d29f6_4918_11eb_b968_acde48001122row15_col1\" class=\"data row15 col1\" >24</td>\n",
       "                        <td id=\"T_7b9d29f6_4918_11eb_b968_acde48001122row15_col2\" class=\"data row15 col2\" >striker</td>\n",
       "                        <td id=\"T_7b9d29f6_4918_11eb_b968_acde48001122row15_col3\" class=\"data row15 col3\" >9,000,000.0</td>\n",
       "                        <td id=\"T_7b9d29f6_4918_11eb_b968_acde48001122row15_col4\" class=\"data row15 col4\" >3,700,530.0</td>\n",
       "                        <td id=\"T_7b9d29f6_4918_11eb_b968_acde48001122row15_col5\" class=\"data row15 col5\" >20,021,862.0</td>\n",
       "                        <td id=\"T_7b9d29f6_4918_11eb_b968_acde48001122row15_col6\" class=\"data row15 col6\" >11,861,196.0</td>\n",
       "                        <td id=\"T_7b9d29f6_4918_11eb_b968_acde48001122row15_col7\" class=\"data row15 col7\" >-2,861,196.0</td>\n",
       "                        <td id=\"T_7b9d29f6_4918_11eb_b968_acde48001122row15_col8\" class=\"data row15 col8\" >-32.0</td>\n",
       "            </tr>\n",
       "            <tr>\n",
       "                        <th id=\"T_7b9d29f6_4918_11eb_b968_acde48001122level0_row16\" class=\"row_heading level0 row16\" >2675</th>\n",
       "                        <td id=\"T_7b9d29f6_4918_11eb_b968_acde48001122row16_col0\" class=\"data row16 col0\" >68033</td>\n",
       "                        <td id=\"T_7b9d29f6_4918_11eb_b968_acde48001122row16_col1\" class=\"data row16 col1\" >24</td>\n",
       "                        <td id=\"T_7b9d29f6_4918_11eb_b968_acde48001122row16_col2\" class=\"data row16 col2\" >midfield</td>\n",
       "                        <td id=\"T_7b9d29f6_4918_11eb_b968_acde48001122row16_col3\" class=\"data row16 col3\" >3,000,000.0</td>\n",
       "                        <td id=\"T_7b9d29f6_4918_11eb_b968_acde48001122row16_col4\" class=\"data row16 col4\" >2,187,893.0</td>\n",
       "                        <td id=\"T_7b9d29f6_4918_11eb_b968_acde48001122row16_col5\" class=\"data row16 col5\" >3,701,864.0</td>\n",
       "                        <td id=\"T_7b9d29f6_4918_11eb_b968_acde48001122row16_col6\" class=\"data row16 col6\" >2,944,878.0</td>\n",
       "                        <td id=\"T_7b9d29f6_4918_11eb_b968_acde48001122row16_col7\" class=\"data row16 col7\" >55,122.0</td>\n",
       "                        <td id=\"T_7b9d29f6_4918_11eb_b968_acde48001122row16_col8\" class=\"data row16 col8\" >2.0</td>\n",
       "            </tr>\n",
       "            <tr>\n",
       "                        <th id=\"T_7b9d29f6_4918_11eb_b968_acde48001122level0_row17\" class=\"row_heading level0 row17\" >2676</th>\n",
       "                        <td id=\"T_7b9d29f6_4918_11eb_b968_acde48001122row17_col0\" class=\"data row17 col0\" >416380</td>\n",
       "                        <td id=\"T_7b9d29f6_4918_11eb_b968_acde48001122row17_col1\" class=\"data row17 col1\" >24</td>\n",
       "                        <td id=\"T_7b9d29f6_4918_11eb_b968_acde48001122row17_col2\" class=\"data row17 col2\" >striker</td>\n",
       "                        <td id=\"T_7b9d29f6_4918_11eb_b968_acde48001122row17_col3\" class=\"data row17 col3\" >2,000,000.0</td>\n",
       "                        <td id=\"T_7b9d29f6_4918_11eb_b968_acde48001122row17_col4\" class=\"data row17 col4\" >3,412,878.0</td>\n",
       "                        <td id=\"T_7b9d29f6_4918_11eb_b968_acde48001122row17_col5\" class=\"data row17 col5\" >2,004,862.0</td>\n",
       "                        <td id=\"T_7b9d29f6_4918_11eb_b968_acde48001122row17_col6\" class=\"data row17 col6\" >2,708,870.0</td>\n",
       "                        <td id=\"T_7b9d29f6_4918_11eb_b968_acde48001122row17_col7\" class=\"data row17 col7\" >-708,870.0</td>\n",
       "                        <td id=\"T_7b9d29f6_4918_11eb_b968_acde48001122row17_col8\" class=\"data row17 col8\" >-35.0</td>\n",
       "            </tr>\n",
       "            <tr>\n",
       "                        <th id=\"T_7b9d29f6_4918_11eb_b968_acde48001122level0_row18\" class=\"row_heading level0 row18\" >2677</th>\n",
       "                        <td id=\"T_7b9d29f6_4918_11eb_b968_acde48001122row18_col0\" class=\"data row18 col0\" >265625</td>\n",
       "                        <td id=\"T_7b9d29f6_4918_11eb_b968_acde48001122row18_col1\" class=\"data row18 col1\" >24</td>\n",
       "                        <td id=\"T_7b9d29f6_4918_11eb_b968_acde48001122row18_col2\" class=\"data row18 col2\" >midfield</td>\n",
       "                        <td id=\"T_7b9d29f6_4918_11eb_b968_acde48001122row18_col3\" class=\"data row18 col3\" >1,000,000.0</td>\n",
       "                        <td id=\"T_7b9d29f6_4918_11eb_b968_acde48001122row18_col4\" class=\"data row18 col4\" >2,876,296.0</td>\n",
       "                        <td id=\"T_7b9d29f6_4918_11eb_b968_acde48001122row18_col5\" class=\"data row18 col5\" >2,504,727.0</td>\n",
       "                        <td id=\"T_7b9d29f6_4918_11eb_b968_acde48001122row18_col6\" class=\"data row18 col6\" >2,690,512.0</td>\n",
       "                        <td id=\"T_7b9d29f6_4918_11eb_b968_acde48001122row18_col7\" class=\"data row18 col7\" >-1,690,512.0</td>\n",
       "                        <td id=\"T_7b9d29f6_4918_11eb_b968_acde48001122row18_col8\" class=\"data row18 col8\" >-169.0</td>\n",
       "            </tr>\n",
       "            <tr>\n",
       "                        <th id=\"T_7b9d29f6_4918_11eb_b968_acde48001122level0_row19\" class=\"row_heading level0 row19\" >2678</th>\n",
       "                        <td id=\"T_7b9d29f6_4918_11eb_b968_acde48001122row19_col0\" class=\"data row19 col0\" >185245</td>\n",
       "                        <td id=\"T_7b9d29f6_4918_11eb_b968_acde48001122row19_col1\" class=\"data row19 col1\" >44</td>\n",
       "                        <td id=\"T_7b9d29f6_4918_11eb_b968_acde48001122row19_col2\" class=\"data row19 col2\" >striker</td>\n",
       "                        <td id=\"T_7b9d29f6_4918_11eb_b968_acde48001122row19_col3\" class=\"data row19 col3\" >15,000,000.0</td>\n",
       "                        <td id=\"T_7b9d29f6_4918_11eb_b968_acde48001122row19_col4\" class=\"data row19 col4\" >3,290,690.0</td>\n",
       "                        <td id=\"T_7b9d29f6_4918_11eb_b968_acde48001122row19_col5\" class=\"data row19 col5\" >12,852,610.0</td>\n",
       "                        <td id=\"T_7b9d29f6_4918_11eb_b968_acde48001122row19_col6\" class=\"data row19 col6\" >8,071,650.0</td>\n",
       "                        <td id=\"T_7b9d29f6_4918_11eb_b968_acde48001122row19_col7\" class=\"data row19 col7\" >6,928,350.0</td>\n",
       "                        <td id=\"T_7b9d29f6_4918_11eb_b968_acde48001122row19_col8\" class=\"data row19 col8\" >46.0</td>\n",
       "            </tr>\n",
       "            <tr>\n",
       "                        <th id=\"T_7b9d29f6_4918_11eb_b968_acde48001122level0_row20\" class=\"row_heading level0 row20\" >2680</th>\n",
       "                        <td id=\"T_7b9d29f6_4918_11eb_b968_acde48001122row20_col0\" class=\"data row20 col0\" >353032</td>\n",
       "                        <td id=\"T_7b9d29f6_4918_11eb_b968_acde48001122row20_col1\" class=\"data row20 col1\" >44</td>\n",
       "                        <td id=\"T_7b9d29f6_4918_11eb_b968_acde48001122row20_col2\" class=\"data row20 col2\" >defense</td>\n",
       "                        <td id=\"T_7b9d29f6_4918_11eb_b968_acde48001122row20_col3\" class=\"data row20 col3\" >6,500,000.0</td>\n",
       "                        <td id=\"T_7b9d29f6_4918_11eb_b968_acde48001122row20_col4\" class=\"data row20 col4\" >8,019,848.0</td>\n",
       "                        <td id=\"T_7b9d29f6_4918_11eb_b968_acde48001122row20_col5\" class=\"data row20 col5\" >8,433,507.0</td>\n",
       "                        <td id=\"T_7b9d29f6_4918_11eb_b968_acde48001122row20_col6\" class=\"data row20 col6\" >8,226,678.0</td>\n",
       "                        <td id=\"T_7b9d29f6_4918_11eb_b968_acde48001122row20_col7\" class=\"data row20 col7\" >-1,726,678.0</td>\n",
       "                        <td id=\"T_7b9d29f6_4918_11eb_b968_acde48001122row20_col8\" class=\"data row20 col8\" >-27.0</td>\n",
       "            </tr>\n",
       "            <tr>\n",
       "                        <th id=\"T_7b9d29f6_4918_11eb_b968_acde48001122level0_row21\" class=\"row_heading level0 row21\" >2684</th>\n",
       "                        <td id=\"T_7b9d29f6_4918_11eb_b968_acde48001122row21_col0\" class=\"data row21 col0\" >338032</td>\n",
       "                        <td id=\"T_7b9d29f6_4918_11eb_b968_acde48001122row21_col1\" class=\"data row21 col1\" >44</td>\n",
       "                        <td id=\"T_7b9d29f6_4918_11eb_b968_acde48001122row21_col2\" class=\"data row21 col2\" >defense</td>\n",
       "                        <td id=\"T_7b9d29f6_4918_11eb_b968_acde48001122row21_col3\" class=\"data row21 col3\" >4,000,000.0</td>\n",
       "                        <td id=\"T_7b9d29f6_4918_11eb_b968_acde48001122row21_col4\" class=\"data row21 col4\" >3,639,591.0</td>\n",
       "                        <td id=\"T_7b9d29f6_4918_11eb_b968_acde48001122row21_col5\" class=\"data row21 col5\" >5,021,338.0</td>\n",
       "                        <td id=\"T_7b9d29f6_4918_11eb_b968_acde48001122row21_col6\" class=\"data row21 col6\" >4,330,464.0</td>\n",
       "                        <td id=\"T_7b9d29f6_4918_11eb_b968_acde48001122row21_col7\" class=\"data row21 col7\" >-330,464.0</td>\n",
       "                        <td id=\"T_7b9d29f6_4918_11eb_b968_acde48001122row21_col8\" class=\"data row21 col8\" >-8.0</td>\n",
       "            </tr>\n",
       "            <tr>\n",
       "                        <th id=\"T_7b9d29f6_4918_11eb_b968_acde48001122level0_row22\" class=\"row_heading level0 row22\" >2685</th>\n",
       "                        <td id=\"T_7b9d29f6_4918_11eb_b968_acde48001122row22_col0\" class=\"data row22 col0\" >207597</td>\n",
       "                        <td id=\"T_7b9d29f6_4918_11eb_b968_acde48001122row22_col1\" class=\"data row22 col1\" >89</td>\n",
       "                        <td id=\"T_7b9d29f6_4918_11eb_b968_acde48001122row22_col2\" class=\"data row22 col2\" >striker</td>\n",
       "                        <td id=\"T_7b9d29f6_4918_11eb_b968_acde48001122row22_col3\" class=\"data row22 col3\" >2,000,000.0</td>\n",
       "                        <td id=\"T_7b9d29f6_4918_11eb_b968_acde48001122row22_col4\" class=\"data row22 col4\" >1,875,352.0</td>\n",
       "                        <td id=\"T_7b9d29f6_4918_11eb_b968_acde48001122row22_col5\" class=\"data row22 col5\" >1,211,585.0</td>\n",
       "                        <td id=\"T_7b9d29f6_4918_11eb_b968_acde48001122row22_col6\" class=\"data row22 col6\" >1,543,468.0</td>\n",
       "                        <td id=\"T_7b9d29f6_4918_11eb_b968_acde48001122row22_col7\" class=\"data row22 col7\" >456,532.0</td>\n",
       "                        <td id=\"T_7b9d29f6_4918_11eb_b968_acde48001122row22_col8\" class=\"data row22 col8\" >23.0</td>\n",
       "            </tr>\n",
       "            <tr>\n",
       "                        <th id=\"T_7b9d29f6_4918_11eb_b968_acde48001122level0_row23\" class=\"row_heading level0 row23\" >2686</th>\n",
       "                        <td id=\"T_7b9d29f6_4918_11eb_b968_acde48001122row23_col0\" class=\"data row23 col0\" >116088</td>\n",
       "                        <td id=\"T_7b9d29f6_4918_11eb_b968_acde48001122row23_col1\" class=\"data row23 col1\" >89</td>\n",
       "                        <td id=\"T_7b9d29f6_4918_11eb_b968_acde48001122row23_col2\" class=\"data row23 col2\" >striker</td>\n",
       "                        <td id=\"T_7b9d29f6_4918_11eb_b968_acde48001122row23_col3\" class=\"data row23 col3\" >1,500,000.0</td>\n",
       "                        <td id=\"T_7b9d29f6_4918_11eb_b968_acde48001122row23_col4\" class=\"data row23 col4\" >2,216,155.0</td>\n",
       "                        <td id=\"T_7b9d29f6_4918_11eb_b968_acde48001122row23_col5\" class=\"data row23 col5\" >1,222,769.0</td>\n",
       "                        <td id=\"T_7b9d29f6_4918_11eb_b968_acde48001122row23_col6\" class=\"data row23 col6\" >1,719,462.0</td>\n",
       "                        <td id=\"T_7b9d29f6_4918_11eb_b968_acde48001122row23_col7\" class=\"data row23 col7\" >-219,462.0</td>\n",
       "                        <td id=\"T_7b9d29f6_4918_11eb_b968_acde48001122row23_col8\" class=\"data row23 col8\" >-15.0</td>\n",
       "            </tr>\n",
       "            <tr>\n",
       "                        <th id=\"T_7b9d29f6_4918_11eb_b968_acde48001122level0_row24\" class=\"row_heading level0 row24\" >2694</th>\n",
       "                        <td id=\"T_7b9d29f6_4918_11eb_b968_acde48001122row24_col0\" class=\"data row24 col0\" >384553</td>\n",
       "                        <td id=\"T_7b9d29f6_4918_11eb_b968_acde48001122row24_col1\" class=\"data row24 col1\" >39</td>\n",
       "                        <td id=\"T_7b9d29f6_4918_11eb_b968_acde48001122row24_col2\" class=\"data row24 col2\" >defense</td>\n",
       "                        <td id=\"T_7b9d29f6_4918_11eb_b968_acde48001122row24_col3\" class=\"data row24 col3\" >2,000,000.0</td>\n",
       "                        <td id=\"T_7b9d29f6_4918_11eb_b968_acde48001122row24_col4\" class=\"data row24 col4\" >3,312,025.0</td>\n",
       "                        <td id=\"T_7b9d29f6_4918_11eb_b968_acde48001122row24_col5\" class=\"data row24 col5\" >1,924,128.0</td>\n",
       "                        <td id=\"T_7b9d29f6_4918_11eb_b968_acde48001122row24_col6\" class=\"data row24 col6\" >2,618,076.0</td>\n",
       "                        <td id=\"T_7b9d29f6_4918_11eb_b968_acde48001122row24_col7\" class=\"data row24 col7\" >-618,076.0</td>\n",
       "                        <td id=\"T_7b9d29f6_4918_11eb_b968_acde48001122row24_col8\" class=\"data row24 col8\" >-31.0</td>\n",
       "            </tr>\n",
       "            <tr>\n",
       "                        <th id=\"T_7b9d29f6_4918_11eb_b968_acde48001122level0_row25\" class=\"row_heading level0 row25\" >2698</th>\n",
       "                        <td id=\"T_7b9d29f6_4918_11eb_b968_acde48001122row25_col0\" class=\"data row25 col0\" >232418</td>\n",
       "                        <td id=\"T_7b9d29f6_4918_11eb_b968_acde48001122row25_col1\" class=\"data row25 col1\" >3</td>\n",
       "                        <td id=\"T_7b9d29f6_4918_11eb_b968_acde48001122row25_col2\" class=\"data row25 col2\" >midfield</td>\n",
       "                        <td id=\"T_7b9d29f6_4918_11eb_b968_acde48001122row25_col3\" class=\"data row25 col3\" >7,000,000.0</td>\n",
       "                        <td id=\"T_7b9d29f6_4918_11eb_b968_acde48001122row25_col4\" class=\"data row25 col4\" >2,925,388.0</td>\n",
       "                        <td id=\"T_7b9d29f6_4918_11eb_b968_acde48001122row25_col5\" class=\"data row25 col5\" >6,556,859.0</td>\n",
       "                        <td id=\"T_7b9d29f6_4918_11eb_b968_acde48001122row25_col6\" class=\"data row25 col6\" >4,741,124.0</td>\n",
       "                        <td id=\"T_7b9d29f6_4918_11eb_b968_acde48001122row25_col7\" class=\"data row25 col7\" >2,258,876.0</td>\n",
       "                        <td id=\"T_7b9d29f6_4918_11eb_b968_acde48001122row25_col8\" class=\"data row25 col8\" >32.0</td>\n",
       "            </tr>\n",
       "            <tr>\n",
       "                        <th id=\"T_7b9d29f6_4918_11eb_b968_acde48001122level0_row26\" class=\"row_heading level0 row26\" >2699</th>\n",
       "                        <td id=\"T_7b9d29f6_4918_11eb_b968_acde48001122row26_col0\" class=\"data row26 col0\" >147573</td>\n",
       "                        <td id=\"T_7b9d29f6_4918_11eb_b968_acde48001122row26_col1\" class=\"data row26 col1\" >3</td>\n",
       "                        <td id=\"T_7b9d29f6_4918_11eb_b968_acde48001122row26_col2\" class=\"data row26 col2\" >striker</td>\n",
       "                        <td id=\"T_7b9d29f6_4918_11eb_b968_acde48001122row26_col3\" class=\"data row26 col3\" >6,500,000.0</td>\n",
       "                        <td id=\"T_7b9d29f6_4918_11eb_b968_acde48001122row26_col4\" class=\"data row26 col4\" >2,412,737.0</td>\n",
       "                        <td id=\"T_7b9d29f6_4918_11eb_b968_acde48001122row26_col5\" class=\"data row26 col5\" >3,786,199.0</td>\n",
       "                        <td id=\"T_7b9d29f6_4918_11eb_b968_acde48001122row26_col6\" class=\"data row26 col6\" >3,099,468.0</td>\n",
       "                        <td id=\"T_7b9d29f6_4918_11eb_b968_acde48001122row26_col7\" class=\"data row26 col7\" >3,400,532.0</td>\n",
       "                        <td id=\"T_7b9d29f6_4918_11eb_b968_acde48001122row26_col8\" class=\"data row26 col8\" >52.0</td>\n",
       "            </tr>\n",
       "            <tr>\n",
       "                        <th id=\"T_7b9d29f6_4918_11eb_b968_acde48001122level0_row27\" class=\"row_heading level0 row27\" >2700</th>\n",
       "                        <td id=\"T_7b9d29f6_4918_11eb_b968_acde48001122row27_col0\" class=\"data row27 col0\" >324344</td>\n",
       "                        <td id=\"T_7b9d29f6_4918_11eb_b968_acde48001122row27_col1\" class=\"data row27 col1\" >3</td>\n",
       "                        <td id=\"T_7b9d29f6_4918_11eb_b968_acde48001122row27_col2\" class=\"data row27 col2\" >striker</td>\n",
       "                        <td id=\"T_7b9d29f6_4918_11eb_b968_acde48001122row27_col3\" class=\"data row27 col3\" >3,300,000.0</td>\n",
       "                        <td id=\"T_7b9d29f6_4918_11eb_b968_acde48001122row27_col4\" class=\"data row27 col4\" >3,240,036.0</td>\n",
       "                        <td id=\"T_7b9d29f6_4918_11eb_b968_acde48001122row27_col5\" class=\"data row27 col5\" >5,597,500.0</td>\n",
       "                        <td id=\"T_7b9d29f6_4918_11eb_b968_acde48001122row27_col6\" class=\"data row27 col6\" >4,418,768.0</td>\n",
       "                        <td id=\"T_7b9d29f6_4918_11eb_b968_acde48001122row27_col7\" class=\"data row27 col7\" >-1,118,768.0</td>\n",
       "                        <td id=\"T_7b9d29f6_4918_11eb_b968_acde48001122row27_col8\" class=\"data row27 col8\" >-34.0</td>\n",
       "            </tr>\n",
       "            <tr>\n",
       "                        <th id=\"T_7b9d29f6_4918_11eb_b968_acde48001122level0_row28\" class=\"row_heading level0 row28\" >2701</th>\n",
       "                        <td id=\"T_7b9d29f6_4918_11eb_b968_acde48001122row28_col0\" class=\"data row28 col0\" >278343</td>\n",
       "                        <td id=\"T_7b9d29f6_4918_11eb_b968_acde48001122row28_col1\" class=\"data row28 col1\" >167</td>\n",
       "                        <td id=\"T_7b9d29f6_4918_11eb_b968_acde48001122row28_col2\" class=\"data row28 col2\" >defense</td>\n",
       "                        <td id=\"T_7b9d29f6_4918_11eb_b968_acde48001122row28_col3\" class=\"data row28 col3\" >7,000,000.0</td>\n",
       "                        <td id=\"T_7b9d29f6_4918_11eb_b968_acde48001122row28_col4\" class=\"data row28 col4\" >3,005,482.0</td>\n",
       "                        <td id=\"T_7b9d29f6_4918_11eb_b968_acde48001122row28_col5\" class=\"data row28 col5\" >1,881,358.0</td>\n",
       "                        <td id=\"T_7b9d29f6_4918_11eb_b968_acde48001122row28_col6\" class=\"data row28 col6\" >2,443,420.0</td>\n",
       "                        <td id=\"T_7b9d29f6_4918_11eb_b968_acde48001122row28_col7\" class=\"data row28 col7\" >4,556,580.0</td>\n",
       "                        <td id=\"T_7b9d29f6_4918_11eb_b968_acde48001122row28_col8\" class=\"data row28 col8\" >65.0</td>\n",
       "            </tr>\n",
       "            <tr>\n",
       "                        <th id=\"T_7b9d29f6_4918_11eb_b968_acde48001122level0_row29\" class=\"row_heading level0 row29\" >2702</th>\n",
       "                        <td id=\"T_7b9d29f6_4918_11eb_b968_acde48001122row29_col0\" class=\"data row29 col0\" >353826</td>\n",
       "                        <td id=\"T_7b9d29f6_4918_11eb_b968_acde48001122row29_col1\" class=\"data row29 col1\" >167</td>\n",
       "                        <td id=\"T_7b9d29f6_4918_11eb_b968_acde48001122row29_col2\" class=\"data row29 col2\" >defense</td>\n",
       "                        <td id=\"T_7b9d29f6_4918_11eb_b968_acde48001122row29_col3\" class=\"data row29 col3\" >2,000,000.0</td>\n",
       "                        <td id=\"T_7b9d29f6_4918_11eb_b968_acde48001122row29_col4\" class=\"data row29 col4\" >2,923,580.0</td>\n",
       "                        <td id=\"T_7b9d29f6_4918_11eb_b968_acde48001122row29_col5\" class=\"data row29 col5\" >1,137,958.0</td>\n",
       "                        <td id=\"T_7b9d29f6_4918_11eb_b968_acde48001122row29_col6\" class=\"data row29 col6\" >2,030,769.0</td>\n",
       "                        <td id=\"T_7b9d29f6_4918_11eb_b968_acde48001122row29_col7\" class=\"data row29 col7\" >-30,769.0</td>\n",
       "                        <td id=\"T_7b9d29f6_4918_11eb_b968_acde48001122row29_col8\" class=\"data row29 col8\" >-2.0</td>\n",
       "            </tr>\n",
       "            <tr>\n",
       "                        <th id=\"T_7b9d29f6_4918_11eb_b968_acde48001122level0_row30\" class=\"row_heading level0 row30\" >2703</th>\n",
       "                        <td id=\"T_7b9d29f6_4918_11eb_b968_acde48001122row30_col0\" class=\"data row30 col0\" >569349</td>\n",
       "                        <td id=\"T_7b9d29f6_4918_11eb_b968_acde48001122row30_col1\" class=\"data row30 col1\" >167</td>\n",
       "                        <td id=\"T_7b9d29f6_4918_11eb_b968_acde48001122row30_col2\" class=\"data row30 col2\" >defense</td>\n",
       "                        <td id=\"T_7b9d29f6_4918_11eb_b968_acde48001122row30_col3\" class=\"data row30 col3\" >1,300,000.0</td>\n",
       "                        <td id=\"T_7b9d29f6_4918_11eb_b968_acde48001122row30_col4\" class=\"data row30 col4\" >1,831,766.0</td>\n",
       "                        <td id=\"T_7b9d29f6_4918_11eb_b968_acde48001122row30_col5\" class=\"data row30 col5\" >1,014,779.0</td>\n",
       "                        <td id=\"T_7b9d29f6_4918_11eb_b968_acde48001122row30_col6\" class=\"data row30 col6\" >1,423,272.0</td>\n",
       "                        <td id=\"T_7b9d29f6_4918_11eb_b968_acde48001122row30_col7\" class=\"data row30 col7\" >-123,272.0</td>\n",
       "                        <td id=\"T_7b9d29f6_4918_11eb_b968_acde48001122row30_col8\" class=\"data row30 col8\" >-10.0</td>\n",
       "            </tr>\n",
       "            <tr>\n",
       "                        <th id=\"T_7b9d29f6_4918_11eb_b968_acde48001122level0_row31\" class=\"row_heading level0 row31\" >2710</th>\n",
       "                        <td id=\"T_7b9d29f6_4918_11eb_b968_acde48001122row31_col0\" class=\"data row31 col0\" >93844</td>\n",
       "                        <td id=\"T_7b9d29f6_4918_11eb_b968_acde48001122row31_col1\" class=\"data row31 col1\" >86</td>\n",
       "                        <td id=\"T_7b9d29f6_4918_11eb_b968_acde48001122row31_col2\" class=\"data row31 col2\" >midfield</td>\n",
       "                        <td id=\"T_7b9d29f6_4918_11eb_b968_acde48001122row31_col3\" class=\"data row31 col3\" >7,000,000.0</td>\n",
       "                        <td id=\"T_7b9d29f6_4918_11eb_b968_acde48001122row31_col4\" class=\"data row31 col4\" >4,422,102.0</td>\n",
       "                        <td id=\"T_7b9d29f6_4918_11eb_b968_acde48001122row31_col5\" class=\"data row31 col5\" >16,087,314.0</td>\n",
       "                        <td id=\"T_7b9d29f6_4918_11eb_b968_acde48001122row31_col6\" class=\"data row31 col6\" >10,254,708.0</td>\n",
       "                        <td id=\"T_7b9d29f6_4918_11eb_b968_acde48001122row31_col7\" class=\"data row31 col7\" >-3,254,708.0</td>\n",
       "                        <td id=\"T_7b9d29f6_4918_11eb_b968_acde48001122row31_col8\" class=\"data row31 col8\" >-46.0</td>\n",
       "            </tr>\n",
       "            <tr>\n",
       "                        <th id=\"T_7b9d29f6_4918_11eb_b968_acde48001122level0_row32\" class=\"row_heading level0 row32\" >2711</th>\n",
       "                        <td id=\"T_7b9d29f6_4918_11eb_b968_acde48001122row32_col0\" class=\"data row32 col0\" >43512</td>\n",
       "                        <td id=\"T_7b9d29f6_4918_11eb_b968_acde48001122row32_col1\" class=\"data row32 col1\" >86</td>\n",
       "                        <td id=\"T_7b9d29f6_4918_11eb_b968_acde48001122row32_col2\" class=\"data row32 col2\" >defense</td>\n",
       "                        <td id=\"T_7b9d29f6_4918_11eb_b968_acde48001122row32_col3\" class=\"data row32 col3\" >4,000,000.0</td>\n",
       "                        <td id=\"T_7b9d29f6_4918_11eb_b968_acde48001122row32_col4\" class=\"data row32 col4\" >1,962,186.0</td>\n",
       "                        <td id=\"T_7b9d29f6_4918_11eb_b968_acde48001122row32_col5\" class=\"data row32 col5\" >5,106,060.0</td>\n",
       "                        <td id=\"T_7b9d29f6_4918_11eb_b968_acde48001122row32_col6\" class=\"data row32 col6\" >3,534,123.0</td>\n",
       "                        <td id=\"T_7b9d29f6_4918_11eb_b968_acde48001122row32_col7\" class=\"data row32 col7\" >465,877.0</td>\n",
       "                        <td id=\"T_7b9d29f6_4918_11eb_b968_acde48001122row32_col8\" class=\"data row32 col8\" >12.0</td>\n",
       "            </tr>\n",
       "            <tr>\n",
       "                        <th id=\"T_7b9d29f6_4918_11eb_b968_acde48001122level0_row33\" class=\"row_heading level0 row33\" >2720</th>\n",
       "                        <td id=\"T_7b9d29f6_4918_11eb_b968_acde48001122row33_col0\" class=\"data row33 col0\" >193004</td>\n",
       "                        <td id=\"T_7b9d29f6_4918_11eb_b968_acde48001122row33_col1\" class=\"data row33 col1\" >79</td>\n",
       "                        <td id=\"T_7b9d29f6_4918_11eb_b968_acde48001122row33_col2\" class=\"data row33 col2\" >defense</td>\n",
       "                        <td id=\"T_7b9d29f6_4918_11eb_b968_acde48001122row33_col3\" class=\"data row33 col3\" >4,000,000.0</td>\n",
       "                        <td id=\"T_7b9d29f6_4918_11eb_b968_acde48001122row33_col4\" class=\"data row33 col4\" >2,463,656.0</td>\n",
       "                        <td id=\"T_7b9d29f6_4918_11eb_b968_acde48001122row33_col5\" class=\"data row33 col5\" >5,092,212.0</td>\n",
       "                        <td id=\"T_7b9d29f6_4918_11eb_b968_acde48001122row33_col6\" class=\"data row33 col6\" >3,777,934.0</td>\n",
       "                        <td id=\"T_7b9d29f6_4918_11eb_b968_acde48001122row33_col7\" class=\"data row33 col7\" >222,066.0</td>\n",
       "                        <td id=\"T_7b9d29f6_4918_11eb_b968_acde48001122row33_col8\" class=\"data row33 col8\" >6.0</td>\n",
       "            </tr>\n",
       "            <tr>\n",
       "                        <th id=\"T_7b9d29f6_4918_11eb_b968_acde48001122level0_row34\" class=\"row_heading level0 row34\" >2722</th>\n",
       "                        <td id=\"T_7b9d29f6_4918_11eb_b968_acde48001122row34_col0\" class=\"data row34 col0\" >146310</td>\n",
       "                        <td id=\"T_7b9d29f6_4918_11eb_b968_acde48001122row34_col1\" class=\"data row34 col1\" >79</td>\n",
       "                        <td id=\"T_7b9d29f6_4918_11eb_b968_acde48001122row34_col2\" class=\"data row34 col2\" >midfield</td>\n",
       "                        <td id=\"T_7b9d29f6_4918_11eb_b968_acde48001122row34_col3\" class=\"data row34 col3\" >1,700,000.0</td>\n",
       "                        <td id=\"T_7b9d29f6_4918_11eb_b968_acde48001122row34_col4\" class=\"data row34 col4\" >2,848,716.0</td>\n",
       "                        <td id=\"T_7b9d29f6_4918_11eb_b968_acde48001122row34_col5\" class=\"data row34 col5\" >3,232,181.0</td>\n",
       "                        <td id=\"T_7b9d29f6_4918_11eb_b968_acde48001122row34_col6\" class=\"data row34 col6\" >3,040,448.0</td>\n",
       "                        <td id=\"T_7b9d29f6_4918_11eb_b968_acde48001122row34_col7\" class=\"data row34 col7\" >-1,340,448.0</td>\n",
       "                        <td id=\"T_7b9d29f6_4918_11eb_b968_acde48001122row34_col8\" class=\"data row34 col8\" >-79.0</td>\n",
       "            </tr>\n",
       "            <tr>\n",
       "                        <th id=\"T_7b9d29f6_4918_11eb_b968_acde48001122level0_row35\" class=\"row_heading level0 row35\" >2723</th>\n",
       "                        <td id=\"T_7b9d29f6_4918_11eb_b968_acde48001122row35_col0\" class=\"data row35 col0\" >195246</td>\n",
       "                        <td id=\"T_7b9d29f6_4918_11eb_b968_acde48001122row35_col1\" class=\"data row35 col1\" >79</td>\n",
       "                        <td id=\"T_7b9d29f6_4918_11eb_b968_acde48001122row35_col2\" class=\"data row35 col2\" >defense</td>\n",
       "                        <td id=\"T_7b9d29f6_4918_11eb_b968_acde48001122row35_col3\" class=\"data row35 col3\" >1,300,000.0</td>\n",
       "                        <td id=\"T_7b9d29f6_4918_11eb_b968_acde48001122row35_col4\" class=\"data row35 col4\" >1,396,197.0</td>\n",
       "                        <td id=\"T_7b9d29f6_4918_11eb_b968_acde48001122row35_col5\" class=\"data row35 col5\" >4,240,370.0</td>\n",
       "                        <td id=\"T_7b9d29f6_4918_11eb_b968_acde48001122row35_col6\" class=\"data row35 col6\" >2,818,284.0</td>\n",
       "                        <td id=\"T_7b9d29f6_4918_11eb_b968_acde48001122row35_col7\" class=\"data row35 col7\" >-1,518,284.0</td>\n",
       "                        <td id=\"T_7b9d29f6_4918_11eb_b968_acde48001122row35_col8\" class=\"data row35 col8\" >-117.0</td>\n",
       "            </tr>\n",
       "    </tbody></table>"
      ],
      "text/plain": [
       "<pandas.io.formats.style.Styler at 0x7fb2a3a45670>"
      ]
     },
     "execution_count": 101,
     "metadata": {},
     "output_type": "execute_result"
    }
   ],
   "source": [
    "results_df_corona.round().style.format({'actual_values':'{:,}', \n",
    "                                'RF_prediction':'{:,}', \n",
    "                                'RR_prediction':'{:,}', \n",
    "                                'combined_prediction':'{:,}', \n",
    "                                'delta':'{:,}',\n",
    "                               'percentual_deviation':'{:,}'})"
   ]
  },
  {
   "cell_type": "markdown",
   "metadata": {},
   "source": [
    "## Analyzing where the deviation comes from"
   ]
  },
  {
   "cell_type": "code",
   "execution_count": 128,
   "metadata": {},
   "outputs": [
    {
     "name": "stderr",
     "output_type": "stream",
     "text": [
      "<ipython-input-128-826d2b22aaeb>:8: FutureWarning: Indexing with multiple keys (implicitly converted to a tuple of keys) will be deprecated, use a list instead.\n",
      "  team_variance = pd.DataFrame(deviation_restults.groupby('receiving_team_id')['percentual_deviation', 'delta'].mean())\n"
     ]
    },
    {
     "data": {
      "text/html": [
       "<div>\n",
       "<style scoped>\n",
       "    .dataframe tbody tr th:only-of-type {\n",
       "        vertical-align: middle;\n",
       "    }\n",
       "\n",
       "    .dataframe tbody tr th {\n",
       "        vertical-align: top;\n",
       "    }\n",
       "\n",
       "    .dataframe thead th {\n",
       "        text-align: right;\n",
       "    }\n",
       "</style>\n",
       "<table border=\"1\" class=\"dataframe\">\n",
       "  <thead>\n",
       "    <tr style=\"text-align: right;\">\n",
       "      <th></th>\n",
       "      <th>percentual_deviation</th>\n",
       "      <th>delta</th>\n",
       "    </tr>\n",
       "    <tr>\n",
       "      <th>receiving_team_names</th>\n",
       "      <th></th>\n",
       "      <th></th>\n",
       "    </tr>\n",
       "  </thead>\n",
       "  <tbody>\n",
       "    <tr>\n",
       "      <th>SV Werder Bremen</th>\n",
       "      <td>13.350000</td>\n",
       "      <td>-8.046970e+05</td>\n",
       "    </tr>\n",
       "    <tr>\n",
       "      <th>1 FC Koln</th>\n",
       "      <td>23.925000</td>\n",
       "      <td>1.993016e+05</td>\n",
       "    </tr>\n",
       "    <tr>\n",
       "      <th>Rasenballsport Leipzig</th>\n",
       "      <td>33.320000</td>\n",
       "      <td>3.206159e+06</td>\n",
       "    </tr>\n",
       "    <tr>\n",
       "      <th>1 Fsv Mainz 05</th>\n",
       "      <td>40.340000</td>\n",
       "      <td>1.788373e+06</td>\n",
       "    </tr>\n",
       "    <tr>\n",
       "      <th>Hertha Bsc</th>\n",
       "      <td>41.642857</td>\n",
       "      <td>6.992257e+06</td>\n",
       "    </tr>\n",
       "    <tr>\n",
       "      <th>Borussia Dortmund</th>\n",
       "      <td>41.933333</td>\n",
       "      <td>1.078535e+07</td>\n",
       "    </tr>\n",
       "    <tr>\n",
       "      <th>Fortuna Dusseldorf</th>\n",
       "      <td>42.650000</td>\n",
       "      <td>-1.497074e+06</td>\n",
       "    </tr>\n",
       "    <tr>\n",
       "      <th>SC Freiburg</th>\n",
       "      <td>63.400000</td>\n",
       "      <td>-9.518470e+05</td>\n",
       "    </tr>\n",
       "    <tr>\n",
       "      <th>FC Schalke 04</th>\n",
       "      <td>64.133333</td>\n",
       "      <td>-1.077546e+06</td>\n",
       "    </tr>\n",
       "    <tr>\n",
       "      <th>Bayer 04 Leverkusen</th>\n",
       "      <td>71.483333</td>\n",
       "      <td>2.207421e+06</td>\n",
       "    </tr>\n",
       "    <tr>\n",
       "      <th>Tsg 1899 Hoffenheim</th>\n",
       "      <td>82.716667</td>\n",
       "      <td>6.784843e+05</td>\n",
       "    </tr>\n",
       "    <tr>\n",
       "      <th>Borussia Monchengladbach</th>\n",
       "      <td>82.925000</td>\n",
       "      <td>-2.911180e+06</td>\n",
       "    </tr>\n",
       "    <tr>\n",
       "      <th>FC Augsburg</th>\n",
       "      <td>103.088889</td>\n",
       "      <td>-4.438467e+05</td>\n",
       "    </tr>\n",
       "    <tr>\n",
       "      <th>Eintracht Frankfurt</th>\n",
       "      <td>106.366667</td>\n",
       "      <td>3.002402e+06</td>\n",
       "    </tr>\n",
       "    <tr>\n",
       "      <th>Vfl Wolfsburg</th>\n",
       "      <td>123.160000</td>\n",
       "      <td>5.805862e+05</td>\n",
       "    </tr>\n",
       "    <tr>\n",
       "      <th>FC Bayern Munchen</th>\n",
       "      <td>133.350000</td>\n",
       "      <td>2.946073e+06</td>\n",
       "    </tr>\n",
       "    <tr>\n",
       "      <th>1 FC Union Berlin</th>\n",
       "      <td>238.633333</td>\n",
       "      <td>-2.510624e+06</td>\n",
       "    </tr>\n",
       "    <tr>\n",
       "      <th>SC Paderborn 07</th>\n",
       "      <td>1559.066667</td>\n",
       "      <td>-2.648884e+06</td>\n",
       "    </tr>\n",
       "  </tbody>\n",
       "</table>\n",
       "</div>"
      ],
      "text/plain": [
       "                          percentual_deviation         delta\n",
       "receiving_team_names                                        \n",
       "SV Werder Bremen                     13.350000 -8.046970e+05\n",
       "1 FC Koln                            23.925000  1.993016e+05\n",
       "Rasenballsport Leipzig               33.320000  3.206159e+06\n",
       "1 Fsv Mainz 05                       40.340000  1.788373e+06\n",
       "Hertha Bsc                           41.642857  6.992257e+06\n",
       "Borussia Dortmund                    41.933333  1.078535e+07\n",
       "Fortuna Dusseldorf                   42.650000 -1.497074e+06\n",
       "SC Freiburg                          63.400000 -9.518470e+05\n",
       "FC Schalke 04                        64.133333 -1.077546e+06\n",
       "Bayer 04 Leverkusen                  71.483333  2.207421e+06\n",
       "Tsg 1899 Hoffenheim                  82.716667  6.784843e+05\n",
       "Borussia Monchengladbach             82.925000 -2.911180e+06\n",
       "FC Augsburg                         103.088889 -4.438467e+05\n",
       "Eintracht Frankfurt                 106.366667  3.002402e+06\n",
       "Vfl Wolfsburg                       123.160000  5.805862e+05\n",
       "FC Bayern Munchen                   133.350000  2.946073e+06\n",
       "1 FC Union Berlin                   238.633333 -2.510624e+06\n",
       "SC Paderborn 07                    1559.066667 -2.648884e+06"
      ]
     },
     "execution_count": 128,
     "metadata": {},
     "output_type": "execute_result"
    }
   ],
   "source": [
    "# preparing dfs\n",
    "deviation_restults = results_df\n",
    "deviation_restults['percentual_deviation'] = abs(deviation_restults['percentual_deviation'])\n",
    "\n",
    "team_names = pd.read_csv('./data/raw_overview_results.csv', index_col=0)\n",
    "team_names = team_names[['receiving_team_ids','receiving_team_names']].drop_duplicates()\n",
    "team_names['receiving_team_names'] = team_names.receiving_team_names.str.replace('-', ' ').str.title().str.replace('Fc', 'FC').str.replace('Sv', 'SV').str.replace('Sc ', 'SC ')\n",
    "team_variance = pd.DataFrame(deviation_restults.groupby('receiving_team_id')['percentual_deviation', 'delta'].mean())\n",
    "team_variance = team_variance.reset_index().merge(team_names, how = 'left', left_on = 'receiving_team_id', right_on = 'receiving_team_ids').set_index('receiving_team_names')\n",
    "team_variance.drop(['receiving_team_ids', 'receiving_team_id'], axis=1, inplace=True)\n",
    "team_variance = team_variance.sort_values(by='percentual_deviation')\n",
    "team_variance"
   ]
  },
  {
   "cell_type": "code",
   "execution_count": 129,
   "metadata": {},
   "outputs": [
    {
     "data": {
      "image/png": "[encoded data removed]",
      "text/plain": [
       "<Figure size 1296x1080 with 1 Axes>"
      ]
     },
     "metadata": {
      "needs_background": "light"
     },
     "output_type": "display_data"
    }
   ],
   "source": [
    "fig = plt.figure(figsize = (18, 15)) \n",
    "ax = fig.add_subplot(111)\n",
    "ax = sns.barplot(x=team_variance.index, \n",
    "            y= team_variance['percentual_deviation'], \n",
    "            palette=colors_from_values(spending_over_time['transfer_values'], \"GnBu\"),\n",
    "            ax=ax)\n",
    "\n",
    "ax.set_title('Percentage deviation from predictions by team', fontdict = title_font) \n",
    "ax.set_xlabel('Team', fontdict = ax_font)\n",
    "ax.set_ylabel('Deviation [%]', fontdict = ax_font)\n",
    "ax.set_xticklabels(labels = team_variance.index, fontdict = ticker_font, rotation = 'vertical')\n",
    "plt.subplots_adjust(bottom=0.6)\n",
    "ax.set_yticklabels(labels = ax.get_yticks().astype('int'), fontdict = ticker_font)\n",
    "\n",
    "ax.spines['top'].set_visible(False)\n",
    "ax.spines['right'].set_visible(False)\n",
    "ax.spines['bottom'].set_visible(False)\n",
    "ax.spines['left'].set_visible(False)\n",
    "\n",
    "fig.savefig('./presentation/assets/deviations_per_team.png', transparent=True)"
   ]
  },
  {
   "cell_type": "code",
   "execution_count": 149,
   "metadata": {},
   "outputs": [
    {
     "data": {
      "image/png": "[encoded data removed]",
      "text/plain": [
       "<Figure size 1080x720 with 1 Axes>"
      ]
     },
     "metadata": {
      "needs_background": "light"
     },
     "output_type": "display_data"
    }
   ],
   "source": [
    "fig = plt.figure() \n",
    "ax = fig.add_subplot(111)\n",
    "\n",
    "ax = deviation_restults.groupby('position')['delta'].median().plot(kind='bar', \n",
    "                                                                  ax=ax,\n",
    "                                                                  position=1,\n",
    "                                                                color = colors_from_values(deviation_restults['delta'], \"GnBu\"))\n",
    "ax.legend()\n",
    "ax.set_title('Median deviation from predictions by position', fontdict = title_font) \n",
    "ax.set_xlabel('Position', fontdict = ax_font)\n",
    "ax.set_ylabel('Deviation [Mio €]', fontdict = ax_font)\n",
    "ax.set_xticklabels(labels = deviation_restults.groupby('position')['delta'].median().index, fontdict = ticker_font, rotation = 'vertical')\n",
    "ax.set_yticklabels(labels = ax.get_yticks().astype('int')/ 1000000, fontdict = ticker_font)\n",
    "\n",
    "ax.spines['top'].set_visible(False)\n",
    "ax.spines['right'].set_visible(False)\n",
    "ax.spines['bottom'].set_visible(False)\n",
    "ax.spines['left'].set_visible(False)"
   ]
  }
 ],
 "metadata": {
  "kernelspec": {
   "display_name": "Python 3",
   "language": "python",
   "name": "python3"
  },
  "language_info": {
   "codemirror_mode": {
    "name": "ipython",
    "version": 3
   },
   "file_extension": ".py",
   "mimetype": "text/x-python",
   "name": "python",
   "nbconvert_exporter": "python",
   "pygments_lexer": "ipython3",
   "version": "3.8.3"
  }
 },
 "nbformat": 4,
 "nbformat_minor": 4
}
